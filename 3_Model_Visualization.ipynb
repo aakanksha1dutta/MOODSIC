{
 "cells": [
  {
   "cell_type": "markdown",
   "id": "d53f3e4f-e5fc-44d8-8d08-172e9b40bd30",
   "metadata": {},
   "source": [
    "# Importing nescessary libraries"
   ]
  },
  {
   "cell_type": "code",
   "execution_count": 2,
   "id": "11b46529-277a-41b1-86f5-580a1794b5e0",
   "metadata": {},
   "outputs": [],
   "source": [
    "import numpy as np \n",
    "import pandas as pd\n",
    "#import plotly.express as px\n",
    "import pickle"
   ]
  },
  {
   "cell_type": "markdown",
   "id": "d7ef4065-f24e-4aec-ae4c-d0f0d1502b86",
   "metadata": {},
   "source": [
    "# Reading CSV file"
   ]
  },
  {
   "cell_type": "code",
   "execution_count": 3,
   "id": "7d7f9aae-5e81-4382-ba09-5eedd69f01e0",
   "metadata": {},
   "outputs": [],
   "source": [
    "model_testing = pd.read_csv('bbyearend.csv')"
   ]
  },
  {
   "cell_type": "markdown",
   "id": "3300970e",
   "metadata": {},
   "source": [
    "## Loading the Model"
   ]
  },
  {
   "cell_type": "code",
   "execution_count": 4,
   "id": "c991d687",
   "metadata": {},
   "outputs": [],
   "source": [
    "model = pickle.load(open('model.pk1','rb'))"
   ]
  }
 ],
 "metadata": {
  "kernelspec": {
   "display_name": "spotify",
   "language": "python",
   "name": "spotify"
  },
  "language_info": {
   "codemirror_mode": {
    "name": "ipython",
    "version": 3
   },
   "file_extension": ".py",
   "mimetype": "text/x-python",
   "name": "python",
   "nbconvert_exporter": "python",
   "pygments_lexer": "ipython3",
   "version": "3.11.0"
  }
 },
 "nbformat": 4,
 "nbformat_minor": 5
}
