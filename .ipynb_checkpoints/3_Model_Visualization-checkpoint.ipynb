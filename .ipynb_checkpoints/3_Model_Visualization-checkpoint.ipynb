{
 "cells": [
  {
   "cell_type": "markdown",
   "id": "d53f3e4f-e5fc-44d8-8d08-172e9b40bd30",
   "metadata": {},
   "source": [
    "# Importing nescessary libraries"
   ]
  },
  {
   "cell_type": "code",
   "execution_count": 259,
   "id": "11b46529-277a-41b1-86f5-580a1794b5e0",
   "metadata": {},
   "outputs": [],
   "source": [
    "import numpy as np \n",
    "import pandas as pd\n",
    "#import plotly.express as px\n",
    "import pickle"
   ]
  },
  {
   "cell_type": "markdown",
   "id": "d7ef4065-f24e-4aec-ae4c-d0f0d1502b86",
   "metadata": {},
   "source": [
    "# Reading CSV file"
   ]
  },
  {
   "cell_type": "code",
   "execution_count": 260,
   "id": "7d7f9aae-5e81-4382-ba09-5eedd69f01e0",
   "metadata": {},
   "outputs": [],
   "source": [
    "data = pd.read_csv('bbyearend.csv')"
   ]
  },
  {
   "cell_type": "markdown",
   "id": "3300970e",
   "metadata": {},
   "source": [
    "## Loading the Model"
   ]
  },
  {
   "cell_type": "code",
   "execution_count": 261,
   "id": "c991d687",
   "metadata": {},
   "outputs": [],
   "source": [
    "file = pickle.load(open('model.pk1','rb'))\n",
    "model = file['model']\n",
    "scaler = file['scaler']\n",
    "feature_list = file['features']"
   ]
  },
  {
   "cell_type": "markdown",
   "id": "794788d5-dea3-405d-800b-cbad8faa13d9",
   "metadata": {},
   "source": [
    "## Checking our test data"
   ]
  },
  {
   "cell_type": "code",
   "execution_count": 262,
   "id": "25e95e67-78b1-4e96-a9c6-87a45e15d982",
   "metadata": {},
   "outputs": [
    {
     "data": {
      "text/html": [
       "<div>\n",
       "<style scoped>\n",
       "    .dataframe tbody tr th:only-of-type {\n",
       "        vertical-align: middle;\n",
       "    }\n",
       "\n",
       "    .dataframe tbody tr th {\n",
       "        vertical-align: top;\n",
       "    }\n",
       "\n",
       "    .dataframe thead th {\n",
       "        text-align: right;\n",
       "    }\n",
       "</style>\n",
       "<table border=\"1\" class=\"dataframe\">\n",
       "  <thead>\n",
       "    <tr style=\"text-align: right;\">\n",
       "      <th></th>\n",
       "      <th>Unnamed: 0</th>\n",
       "      <th>track_id</th>\n",
       "      <th>track_name</th>\n",
       "      <th>first_artist</th>\n",
       "      <th>danceability</th>\n",
       "      <th>energy</th>\n",
       "      <th>key</th>\n",
       "      <th>loudness</th>\n",
       "      <th>mode</th>\n",
       "      <th>speechiness</th>\n",
       "      <th>...</th>\n",
       "      <th>liveness</th>\n",
       "      <th>valence</th>\n",
       "      <th>tempo</th>\n",
       "      <th>type</th>\n",
       "      <th>id</th>\n",
       "      <th>uri</th>\n",
       "      <th>track_href</th>\n",
       "      <th>analysis_url</th>\n",
       "      <th>duration_ms</th>\n",
       "      <th>time_signature</th>\n",
       "    </tr>\n",
       "  </thead>\n",
       "  <tbody>\n",
       "    <tr>\n",
       "      <th>0</th>\n",
       "      <td>0</td>\n",
       "      <td>7K3BhSpAxZBznislvUMVtn</td>\n",
       "      <td>Last Night</td>\n",
       "      <td>Morgan Wallen</td>\n",
       "      <td>0.492</td>\n",
       "      <td>0.675</td>\n",
       "      <td>6</td>\n",
       "      <td>-5.456</td>\n",
       "      <td>1</td>\n",
       "      <td>0.0389</td>\n",
       "      <td>...</td>\n",
       "      <td>0.1420</td>\n",
       "      <td>0.478</td>\n",
       "      <td>203.759</td>\n",
       "      <td>audio_features</td>\n",
       "      <td>7K3BhSpAxZBznislvUMVtn</td>\n",
       "      <td>spotify:track:7K3BhSpAxZBznislvUMVtn</td>\n",
       "      <td>https://api.spotify.com/v1/tracks/7K3BhSpAxZBz...</td>\n",
       "      <td>https://api.spotify.com/v1/audio-analysis/7K3B...</td>\n",
       "      <td>163855</td>\n",
       "      <td>4</td>\n",
       "    </tr>\n",
       "    <tr>\n",
       "      <th>1</th>\n",
       "      <td>1</td>\n",
       "      <td>0yLdNVWF3Srea0uzk55zFn</td>\n",
       "      <td>Flowers</td>\n",
       "      <td>Miley Cyrus</td>\n",
       "      <td>0.707</td>\n",
       "      <td>0.681</td>\n",
       "      <td>0</td>\n",
       "      <td>-4.325</td>\n",
       "      <td>1</td>\n",
       "      <td>0.0668</td>\n",
       "      <td>...</td>\n",
       "      <td>0.0322</td>\n",
       "      <td>0.646</td>\n",
       "      <td>117.999</td>\n",
       "      <td>audio_features</td>\n",
       "      <td>0yLdNVWF3Srea0uzk55zFn</td>\n",
       "      <td>spotify:track:0yLdNVWF3Srea0uzk55zFn</td>\n",
       "      <td>https://api.spotify.com/v1/tracks/0yLdNVWF3Sre...</td>\n",
       "      <td>https://api.spotify.com/v1/audio-analysis/0yLd...</td>\n",
       "      <td>200455</td>\n",
       "      <td>4</td>\n",
       "    </tr>\n",
       "    <tr>\n",
       "      <th>2</th>\n",
       "      <td>2</td>\n",
       "      <td>3OHfY25tqY28d16oZczHc8</td>\n",
       "      <td>Kill Bill</td>\n",
       "      <td>SZA</td>\n",
       "      <td>0.644</td>\n",
       "      <td>0.728</td>\n",
       "      <td>8</td>\n",
       "      <td>-5.750</td>\n",
       "      <td>1</td>\n",
       "      <td>0.0351</td>\n",
       "      <td>...</td>\n",
       "      <td>0.1610</td>\n",
       "      <td>0.430</td>\n",
       "      <td>88.993</td>\n",
       "      <td>audio_features</td>\n",
       "      <td>3OHfY25tqY28d16oZczHc8</td>\n",
       "      <td>spotify:track:3OHfY25tqY28d16oZczHc8</td>\n",
       "      <td>https://api.spotify.com/v1/tracks/3OHfY25tqY28...</td>\n",
       "      <td>https://api.spotify.com/v1/audio-analysis/3OHf...</td>\n",
       "      <td>153947</td>\n",
       "      <td>4</td>\n",
       "    </tr>\n",
       "    <tr>\n",
       "      <th>3</th>\n",
       "      <td>3</td>\n",
       "      <td>0V3wPSX9ygBnCm8psDIegu</td>\n",
       "      <td>Anti-Hero</td>\n",
       "      <td>Taylor Swift</td>\n",
       "      <td>0.637</td>\n",
       "      <td>0.643</td>\n",
       "      <td>4</td>\n",
       "      <td>-6.571</td>\n",
       "      <td>1</td>\n",
       "      <td>0.0519</td>\n",
       "      <td>...</td>\n",
       "      <td>0.1420</td>\n",
       "      <td>0.533</td>\n",
       "      <td>97.008</td>\n",
       "      <td>audio_features</td>\n",
       "      <td>0V3wPSX9ygBnCm8psDIegu</td>\n",
       "      <td>spotify:track:0V3wPSX9ygBnCm8psDIegu</td>\n",
       "      <td>https://api.spotify.com/v1/tracks/0V3wPSX9ygBn...</td>\n",
       "      <td>https://api.spotify.com/v1/audio-analysis/0V3w...</td>\n",
       "      <td>200690</td>\n",
       "      <td>4</td>\n",
       "    </tr>\n",
       "    <tr>\n",
       "      <th>4</th>\n",
       "      <td>4</td>\n",
       "      <td>2dHHgzDwk4BJdRwy9uXhTO</td>\n",
       "      <td>Creepin' (with The Weeknd &amp; 21 Savage)</td>\n",
       "      <td>Metro Boomin</td>\n",
       "      <td>0.715</td>\n",
       "      <td>0.620</td>\n",
       "      <td>1</td>\n",
       "      <td>-6.005</td>\n",
       "      <td>0</td>\n",
       "      <td>0.0484</td>\n",
       "      <td>...</td>\n",
       "      <td>0.0822</td>\n",
       "      <td>0.172</td>\n",
       "      <td>97.950</td>\n",
       "      <td>audio_features</td>\n",
       "      <td>2dHHgzDwk4BJdRwy9uXhTO</td>\n",
       "      <td>spotify:track:2dHHgzDwk4BJdRwy9uXhTO</td>\n",
       "      <td>https://api.spotify.com/v1/tracks/2dHHgzDwk4BJ...</td>\n",
       "      <td>https://api.spotify.com/v1/audio-analysis/2dHH...</td>\n",
       "      <td>221520</td>\n",
       "      <td>4</td>\n",
       "    </tr>\n",
       "  </tbody>\n",
       "</table>\n",
       "<p>5 rows × 22 columns</p>\n",
       "</div>"
      ],
      "text/plain": [
       "   Unnamed: 0                track_id                              track_name  \\\n",
       "0           0  7K3BhSpAxZBznislvUMVtn                              Last Night   \n",
       "1           1  0yLdNVWF3Srea0uzk55zFn                                 Flowers   \n",
       "2           2  3OHfY25tqY28d16oZczHc8                               Kill Bill   \n",
       "3           3  0V3wPSX9ygBnCm8psDIegu                               Anti-Hero   \n",
       "4           4  2dHHgzDwk4BJdRwy9uXhTO  Creepin' (with The Weeknd & 21 Savage)   \n",
       "\n",
       "    first_artist  danceability  energy  key  loudness  mode  speechiness  ...  \\\n",
       "0  Morgan Wallen         0.492   0.675    6    -5.456     1       0.0389  ...   \n",
       "1    Miley Cyrus         0.707   0.681    0    -4.325     1       0.0668  ...   \n",
       "2            SZA         0.644   0.728    8    -5.750     1       0.0351  ...   \n",
       "3   Taylor Swift         0.637   0.643    4    -6.571     1       0.0519  ...   \n",
       "4   Metro Boomin         0.715   0.620    1    -6.005     0       0.0484  ...   \n",
       "\n",
       "   liveness  valence    tempo            type                      id  \\\n",
       "0    0.1420    0.478  203.759  audio_features  7K3BhSpAxZBznislvUMVtn   \n",
       "1    0.0322    0.646  117.999  audio_features  0yLdNVWF3Srea0uzk55zFn   \n",
       "2    0.1610    0.430   88.993  audio_features  3OHfY25tqY28d16oZczHc8   \n",
       "3    0.1420    0.533   97.008  audio_features  0V3wPSX9ygBnCm8psDIegu   \n",
       "4    0.0822    0.172   97.950  audio_features  2dHHgzDwk4BJdRwy9uXhTO   \n",
       "\n",
       "                                    uri  \\\n",
       "0  spotify:track:7K3BhSpAxZBznislvUMVtn   \n",
       "1  spotify:track:0yLdNVWF3Srea0uzk55zFn   \n",
       "2  spotify:track:3OHfY25tqY28d16oZczHc8   \n",
       "3  spotify:track:0V3wPSX9ygBnCm8psDIegu   \n",
       "4  spotify:track:2dHHgzDwk4BJdRwy9uXhTO   \n",
       "\n",
       "                                          track_href  \\\n",
       "0  https://api.spotify.com/v1/tracks/7K3BhSpAxZBz...   \n",
       "1  https://api.spotify.com/v1/tracks/0yLdNVWF3Sre...   \n",
       "2  https://api.spotify.com/v1/tracks/3OHfY25tqY28...   \n",
       "3  https://api.spotify.com/v1/tracks/0V3wPSX9ygBn...   \n",
       "4  https://api.spotify.com/v1/tracks/2dHHgzDwk4BJ...   \n",
       "\n",
       "                                        analysis_url duration_ms  \\\n",
       "0  https://api.spotify.com/v1/audio-analysis/7K3B...      163855   \n",
       "1  https://api.spotify.com/v1/audio-analysis/0yLd...      200455   \n",
       "2  https://api.spotify.com/v1/audio-analysis/3OHf...      153947   \n",
       "3  https://api.spotify.com/v1/audio-analysis/0V3w...      200690   \n",
       "4  https://api.spotify.com/v1/audio-analysis/2dHH...      221520   \n",
       "\n",
       "  time_signature  \n",
       "0              4  \n",
       "1              4  \n",
       "2              4  \n",
       "3              4  \n",
       "4              4  \n",
       "\n",
       "[5 rows x 22 columns]"
      ]
     },
     "execution_count": 262,
     "metadata": {},
     "output_type": "execute_result"
    }
   ],
   "source": [
    "data.head()"
   ]
  },
  {
   "cell_type": "code",
   "execution_count": 263,
   "id": "528c3f74-8a89-4de2-9e2c-b51e191d3011",
   "metadata": {},
   "outputs": [
    {
     "name": "stdout",
     "output_type": "stream",
     "text": [
      "False\n"
     ]
    }
   ],
   "source": [
    "# checking if any missing values\n",
    "print (data.isnull().values.any())"
   ]
  },
  {
   "cell_type": "markdown",
   "id": "c246a214-1639-4562-9b77-688f74d7e55f",
   "metadata": {},
   "source": [
    "## Pre processing function"
   ]
  },
  {
   "cell_type": "code",
   "execution_count": 264,
   "id": "37f702ca-a9f7-45b7-b7a2-abe4a67f541e",
   "metadata": {},
   "outputs": [],
   "source": [
    "def preprocess(df):\n",
    "    features = df[feature_list]\n",
    "    scaled_df = scaler.transform(features)\n",
    "    features = pd.DataFrame(scaled_df, columns=features.columns)\n",
    "    return features"
   ]
  },
  {
   "cell_type": "code",
   "execution_count": 265,
   "id": "00f97b2f-8e30-4422-888f-e11184d1659a",
   "metadata": {},
   "outputs": [
    {
     "data": {
      "text/html": [
       "<div>\n",
       "<style scoped>\n",
       "    .dataframe tbody tr th:only-of-type {\n",
       "        vertical-align: middle;\n",
       "    }\n",
       "\n",
       "    .dataframe tbody tr th {\n",
       "        vertical-align: top;\n",
       "    }\n",
       "\n",
       "    .dataframe thead th {\n",
       "        text-align: right;\n",
       "    }\n",
       "</style>\n",
       "<table border=\"1\" class=\"dataframe\">\n",
       "  <thead>\n",
       "    <tr style=\"text-align: right;\">\n",
       "      <th></th>\n",
       "      <th>danceability</th>\n",
       "      <th>energy</th>\n",
       "      <th>key</th>\n",
       "      <th>loudness</th>\n",
       "      <th>mode</th>\n",
       "      <th>speechiness</th>\n",
       "      <th>acousticness</th>\n",
       "      <th>instrumentalness</th>\n",
       "      <th>liveness</th>\n",
       "      <th>valence</th>\n",
       "      <th>tempo</th>\n",
       "    </tr>\n",
       "  </thead>\n",
       "  <tbody>\n",
       "    <tr>\n",
       "      <th>count</th>\n",
       "      <td>100.000000</td>\n",
       "      <td>100.000000</td>\n",
       "      <td>100.000000</td>\n",
       "      <td>100.000000</td>\n",
       "      <td>100.000000</td>\n",
       "      <td>100.000000</td>\n",
       "      <td>100.000000</td>\n",
       "      <td>100.000000</td>\n",
       "      <td>100.000000</td>\n",
       "      <td>100.000000</td>\n",
       "      <td>100.000000</td>\n",
       "    </tr>\n",
       "    <tr>\n",
       "      <th>mean</th>\n",
       "      <td>0.263201</td>\n",
       "      <td>0.300555</td>\n",
       "      <td>-0.013836</td>\n",
       "      <td>0.496015</td>\n",
       "      <td>0.008041</td>\n",
       "      <td>0.340875</td>\n",
       "      <td>-0.347489</td>\n",
       "      <td>-0.270674</td>\n",
       "      <td>-0.003895</td>\n",
       "      <td>0.137899</td>\n",
       "      <td>0.300707</td>\n",
       "    </tr>\n",
       "    <tr>\n",
       "      <th>std</th>\n",
       "      <td>0.963424</td>\n",
       "      <td>0.741093</td>\n",
       "      <td>0.967799</td>\n",
       "      <td>0.625908</td>\n",
       "      <td>1.001337</td>\n",
       "      <td>1.458126</td>\n",
       "      <td>0.781606</td>\n",
       "      <td>0.384855</td>\n",
       "      <td>0.857256</td>\n",
       "      <td>0.922848</td>\n",
       "      <td>0.961168</td>\n",
       "    </tr>\n",
       "    <tr>\n",
       "      <th>min</th>\n",
       "      <td>-2.465408</td>\n",
       "      <td>-2.095240</td>\n",
       "      <td>-1.445314</td>\n",
       "      <td>-2.581613</td>\n",
       "      <td>-1.550895</td>\n",
       "      <td>-0.596540</td>\n",
       "      <td>-1.149800</td>\n",
       "      <td>-0.326679</td>\n",
       "      <td>-1.016900</td>\n",
       "      <td>-1.814811</td>\n",
       "      <td>-1.821543</td>\n",
       "    </tr>\n",
       "    <tr>\n",
       "      <th>25%</th>\n",
       "      <td>-0.434849</td>\n",
       "      <td>-0.186694</td>\n",
       "      <td>-0.883950</td>\n",
       "      <td>0.246695</td>\n",
       "      <td>-1.550895</td>\n",
       "      <td>-0.505188</td>\n",
       "      <td>-0.985720</td>\n",
       "      <td>-0.326679</td>\n",
       "      <td>-0.563435</td>\n",
       "      <td>-0.538591</td>\n",
       "      <td>-0.426813</td>\n",
       "    </tr>\n",
       "    <tr>\n",
       "      <th>50%</th>\n",
       "      <td>0.304152</td>\n",
       "      <td>0.286053</td>\n",
       "      <td>-0.041905</td>\n",
       "      <td>0.630251</td>\n",
       "      <td>0.644789</td>\n",
       "      <td>-0.269038</td>\n",
       "      <td>-0.678662</td>\n",
       "      <td>-0.326676</td>\n",
       "      <td>-0.397497</td>\n",
       "      <td>0.123804</td>\n",
       "      <td>0.283236</td>\n",
       "    </tr>\n",
       "    <tr>\n",
       "      <th>75%</th>\n",
       "      <td>0.999084</td>\n",
       "      <td>0.837591</td>\n",
       "      <td>0.800141</td>\n",
       "      <td>0.861960</td>\n",
       "      <td>0.644789</td>\n",
       "      <td>0.244960</td>\n",
       "      <td>0.170326</td>\n",
       "      <td>-0.326622</td>\n",
       "      <td>0.474693</td>\n",
       "      <td>0.809966</td>\n",
       "      <td>0.914102</td>\n",
       "    </tr>\n",
       "    <tr>\n",
       "      <th>max</th>\n",
       "      <td>2.327930</td>\n",
       "      <td>1.839363</td>\n",
       "      <td>1.642187</td>\n",
       "      <td>1.566757</td>\n",
       "      <td>0.644789</td>\n",
       "      <td>6.452348</td>\n",
       "      <td>1.875412</td>\n",
       "      <td>3.300136</td>\n",
       "      <td>3.194744</td>\n",
       "      <td>1.940480</td>\n",
       "      <td>3.023751</td>\n",
       "    </tr>\n",
       "  </tbody>\n",
       "</table>\n",
       "</div>"
      ],
      "text/plain": [
       "       danceability      energy         key    loudness        mode  \\\n",
       "count    100.000000  100.000000  100.000000  100.000000  100.000000   \n",
       "mean       0.263201    0.300555   -0.013836    0.496015    0.008041   \n",
       "std        0.963424    0.741093    0.967799    0.625908    1.001337   \n",
       "min       -2.465408   -2.095240   -1.445314   -2.581613   -1.550895   \n",
       "25%       -0.434849   -0.186694   -0.883950    0.246695   -1.550895   \n",
       "50%        0.304152    0.286053   -0.041905    0.630251    0.644789   \n",
       "75%        0.999084    0.837591    0.800141    0.861960    0.644789   \n",
       "max        2.327930    1.839363    1.642187    1.566757    0.644789   \n",
       "\n",
       "       speechiness  acousticness  instrumentalness    liveness     valence  \\\n",
       "count   100.000000    100.000000        100.000000  100.000000  100.000000   \n",
       "mean      0.340875     -0.347489         -0.270674   -0.003895    0.137899   \n",
       "std       1.458126      0.781606          0.384855    0.857256    0.922848   \n",
       "min      -0.596540     -1.149800         -0.326679   -1.016900   -1.814811   \n",
       "25%      -0.505188     -0.985720         -0.326679   -0.563435   -0.538591   \n",
       "50%      -0.269038     -0.678662         -0.326676   -0.397497    0.123804   \n",
       "75%       0.244960      0.170326         -0.326622    0.474693    0.809966   \n",
       "max       6.452348      1.875412          3.300136    3.194744    1.940480   \n",
       "\n",
       "            tempo  \n",
       "count  100.000000  \n",
       "mean     0.300707  \n",
       "std      0.961168  \n",
       "min     -1.821543  \n",
       "25%     -0.426813  \n",
       "50%      0.283236  \n",
       "75%      0.914102  \n",
       "max      3.023751  "
      ]
     },
     "execution_count": 265,
     "metadata": {},
     "output_type": "execute_result"
    }
   ],
   "source": [
    "features = preprocess(data)\n",
    "features.describe()"
   ]
  },
  {
   "cell_type": "code",
   "execution_count": 266,
   "id": "1f6988a7-2c7b-4e90-ab38-e87772e37834",
   "metadata": {},
   "outputs": [],
   "source": [
    "idx = np.where(model.predict(features)==1)"
   ]
  },
  {
   "cell_type": "code",
   "execution_count": 267,
   "id": "ae338a76-bff9-47fc-a317-d4dbf25cc01a",
   "metadata": {},
   "outputs": [
    {
     "data": {
      "text/plain": [
       "array([ 1,  2,  4,  5,  9, 10, 11, 13, 14, 16, 17, 18, 19, 23, 24, 25, 26,\n",
       "       28, 30, 32, 33, 34, 36, 37, 39, 42, 44, 45, 47, 48, 50, 51, 52, 55,\n",
       "       56, 57, 60, 63, 64, 65, 68, 69, 71, 74, 75, 78, 81, 82, 84, 86, 87,\n",
       "       88, 89, 90, 91, 92, 93, 94, 95, 96, 97], dtype=int64)"
      ]
     },
     "execution_count": 267,
     "metadata": {},
     "output_type": "execute_result"
    }
   ],
   "source": [
    "idx[0]"
   ]
  },
  {
   "cell_type": "code",
   "execution_count": 268,
   "id": "7921bced-ab07-4757-88de-456d60bedb51",
   "metadata": {},
   "outputs": [
    {
     "data": {
      "text/html": [
       "<div>\n",
       "<style scoped>\n",
       "    .dataframe tbody tr th:only-of-type {\n",
       "        vertical-align: middle;\n",
       "    }\n",
       "\n",
       "    .dataframe tbody tr th {\n",
       "        vertical-align: top;\n",
       "    }\n",
       "\n",
       "    .dataframe thead th {\n",
       "        text-align: right;\n",
       "    }\n",
       "</style>\n",
       "<table border=\"1\" class=\"dataframe\">\n",
       "  <thead>\n",
       "    <tr style=\"text-align: right;\">\n",
       "      <th></th>\n",
       "      <th>Unnamed: 0</th>\n",
       "      <th>track_id</th>\n",
       "      <th>track_name</th>\n",
       "      <th>first_artist</th>\n",
       "      <th>danceability</th>\n",
       "      <th>energy</th>\n",
       "      <th>key</th>\n",
       "      <th>loudness</th>\n",
       "      <th>mode</th>\n",
       "      <th>speechiness</th>\n",
       "      <th>...</th>\n",
       "      <th>liveness</th>\n",
       "      <th>valence</th>\n",
       "      <th>tempo</th>\n",
       "      <th>type</th>\n",
       "      <th>id</th>\n",
       "      <th>uri</th>\n",
       "      <th>track_href</th>\n",
       "      <th>analysis_url</th>\n",
       "      <th>duration_ms</th>\n",
       "      <th>time_signature</th>\n",
       "    </tr>\n",
       "  </thead>\n",
       "  <tbody>\n",
       "    <tr>\n",
       "      <th>1</th>\n",
       "      <td>1</td>\n",
       "      <td>0yLdNVWF3Srea0uzk55zFn</td>\n",
       "      <td>Flowers</td>\n",
       "      <td>Miley Cyrus</td>\n",
       "      <td>0.707</td>\n",
       "      <td>0.681</td>\n",
       "      <td>0</td>\n",
       "      <td>-4.325</td>\n",
       "      <td>1</td>\n",
       "      <td>0.0668</td>\n",
       "      <td>...</td>\n",
       "      <td>0.0322</td>\n",
       "      <td>0.646</td>\n",
       "      <td>117.999</td>\n",
       "      <td>audio_features</td>\n",
       "      <td>0yLdNVWF3Srea0uzk55zFn</td>\n",
       "      <td>spotify:track:0yLdNVWF3Srea0uzk55zFn</td>\n",
       "      <td>https://api.spotify.com/v1/tracks/0yLdNVWF3Sre...</td>\n",
       "      <td>https://api.spotify.com/v1/audio-analysis/0yLd...</td>\n",
       "      <td>200455</td>\n",
       "      <td>4</td>\n",
       "    </tr>\n",
       "    <tr>\n",
       "      <th>2</th>\n",
       "      <td>2</td>\n",
       "      <td>3OHfY25tqY28d16oZczHc8</td>\n",
       "      <td>Kill Bill</td>\n",
       "      <td>SZA</td>\n",
       "      <td>0.644</td>\n",
       "      <td>0.728</td>\n",
       "      <td>8</td>\n",
       "      <td>-5.750</td>\n",
       "      <td>1</td>\n",
       "      <td>0.0351</td>\n",
       "      <td>...</td>\n",
       "      <td>0.1610</td>\n",
       "      <td>0.430</td>\n",
       "      <td>88.993</td>\n",
       "      <td>audio_features</td>\n",
       "      <td>3OHfY25tqY28d16oZczHc8</td>\n",
       "      <td>spotify:track:3OHfY25tqY28d16oZczHc8</td>\n",
       "      <td>https://api.spotify.com/v1/tracks/3OHfY25tqY28...</td>\n",
       "      <td>https://api.spotify.com/v1/audio-analysis/3OHf...</td>\n",
       "      <td>153947</td>\n",
       "      <td>4</td>\n",
       "    </tr>\n",
       "    <tr>\n",
       "      <th>4</th>\n",
       "      <td>4</td>\n",
       "      <td>2dHHgzDwk4BJdRwy9uXhTO</td>\n",
       "      <td>Creepin' (with The Weeknd &amp; 21 Savage)</td>\n",
       "      <td>Metro Boomin</td>\n",
       "      <td>0.715</td>\n",
       "      <td>0.620</td>\n",
       "      <td>1</td>\n",
       "      <td>-6.005</td>\n",
       "      <td>0</td>\n",
       "      <td>0.0484</td>\n",
       "      <td>...</td>\n",
       "      <td>0.0822</td>\n",
       "      <td>0.172</td>\n",
       "      <td>97.950</td>\n",
       "      <td>audio_features</td>\n",
       "      <td>2dHHgzDwk4BJdRwy9uXhTO</td>\n",
       "      <td>spotify:track:2dHHgzDwk4BJdRwy9uXhTO</td>\n",
       "      <td>https://api.spotify.com/v1/tracks/2dHHgzDwk4BJ...</td>\n",
       "      <td>https://api.spotify.com/v1/audio-analysis/2dHH...</td>\n",
       "      <td>221520</td>\n",
       "      <td>4</td>\n",
       "    </tr>\n",
       "    <tr>\n",
       "      <th>5</th>\n",
       "      <td>5</td>\n",
       "      <td>0WtM2NBVQNNJLh6scP13H8</td>\n",
       "      <td>Calm Down (with Selena Gomez)</td>\n",
       "      <td>Rema</td>\n",
       "      <td>0.801</td>\n",
       "      <td>0.806</td>\n",
       "      <td>11</td>\n",
       "      <td>-5.206</td>\n",
       "      <td>1</td>\n",
       "      <td>0.0381</td>\n",
       "      <td>...</td>\n",
       "      <td>0.1140</td>\n",
       "      <td>0.802</td>\n",
       "      <td>106.999</td>\n",
       "      <td>audio_features</td>\n",
       "      <td>0WtM2NBVQNNJLh6scP13H8</td>\n",
       "      <td>spotify:track:0WtM2NBVQNNJLh6scP13H8</td>\n",
       "      <td>https://api.spotify.com/v1/tracks/0WtM2NBVQNNJ...</td>\n",
       "      <td>https://api.spotify.com/v1/audio-analysis/0WtM...</td>\n",
       "      <td>239318</td>\n",
       "      <td>4</td>\n",
       "    </tr>\n",
       "    <tr>\n",
       "      <th>9</th>\n",
       "      <td>9</td>\n",
       "      <td>4uUG5RXrOk84mYEfFvj3cK</td>\n",
       "      <td>I'm Good (Blue)</td>\n",
       "      <td>David Guetta</td>\n",
       "      <td>0.561</td>\n",
       "      <td>0.965</td>\n",
       "      <td>7</td>\n",
       "      <td>-3.673</td>\n",
       "      <td>0</td>\n",
       "      <td>0.0343</td>\n",
       "      <td>...</td>\n",
       "      <td>0.3710</td>\n",
       "      <td>0.304</td>\n",
       "      <td>128.040</td>\n",
       "      <td>audio_features</td>\n",
       "      <td>4uUG5RXrOk84mYEfFvj3cK</td>\n",
       "      <td>spotify:track:4uUG5RXrOk84mYEfFvj3cK</td>\n",
       "      <td>https://api.spotify.com/v1/tracks/4uUG5RXrOk84...</td>\n",
       "      <td>https://api.spotify.com/v1/audio-analysis/4uUG...</td>\n",
       "      <td>175238</td>\n",
       "      <td>4</td>\n",
       "    </tr>\n",
       "  </tbody>\n",
       "</table>\n",
       "<p>5 rows × 22 columns</p>\n",
       "</div>"
      ],
      "text/plain": [
       "   Unnamed: 0                track_id                              track_name  \\\n",
       "1           1  0yLdNVWF3Srea0uzk55zFn                                 Flowers   \n",
       "2           2  3OHfY25tqY28d16oZczHc8                               Kill Bill   \n",
       "4           4  2dHHgzDwk4BJdRwy9uXhTO  Creepin' (with The Weeknd & 21 Savage)   \n",
       "5           5  0WtM2NBVQNNJLh6scP13H8           Calm Down (with Selena Gomez)   \n",
       "9           9  4uUG5RXrOk84mYEfFvj3cK                         I'm Good (Blue)   \n",
       "\n",
       "   first_artist  danceability  energy  key  loudness  mode  speechiness  ...  \\\n",
       "1   Miley Cyrus         0.707   0.681    0    -4.325     1       0.0668  ...   \n",
       "2           SZA         0.644   0.728    8    -5.750     1       0.0351  ...   \n",
       "4  Metro Boomin         0.715   0.620    1    -6.005     0       0.0484  ...   \n",
       "5          Rema         0.801   0.806   11    -5.206     1       0.0381  ...   \n",
       "9  David Guetta         0.561   0.965    7    -3.673     0       0.0343  ...   \n",
       "\n",
       "   liveness  valence    tempo            type                      id  \\\n",
       "1    0.0322    0.646  117.999  audio_features  0yLdNVWF3Srea0uzk55zFn   \n",
       "2    0.1610    0.430   88.993  audio_features  3OHfY25tqY28d16oZczHc8   \n",
       "4    0.0822    0.172   97.950  audio_features  2dHHgzDwk4BJdRwy9uXhTO   \n",
       "5    0.1140    0.802  106.999  audio_features  0WtM2NBVQNNJLh6scP13H8   \n",
       "9    0.3710    0.304  128.040  audio_features  4uUG5RXrOk84mYEfFvj3cK   \n",
       "\n",
       "                                    uri  \\\n",
       "1  spotify:track:0yLdNVWF3Srea0uzk55zFn   \n",
       "2  spotify:track:3OHfY25tqY28d16oZczHc8   \n",
       "4  spotify:track:2dHHgzDwk4BJdRwy9uXhTO   \n",
       "5  spotify:track:0WtM2NBVQNNJLh6scP13H8   \n",
       "9  spotify:track:4uUG5RXrOk84mYEfFvj3cK   \n",
       "\n",
       "                                          track_href  \\\n",
       "1  https://api.spotify.com/v1/tracks/0yLdNVWF3Sre...   \n",
       "2  https://api.spotify.com/v1/tracks/3OHfY25tqY28...   \n",
       "4  https://api.spotify.com/v1/tracks/2dHHgzDwk4BJ...   \n",
       "5  https://api.spotify.com/v1/tracks/0WtM2NBVQNNJ...   \n",
       "9  https://api.spotify.com/v1/tracks/4uUG5RXrOk84...   \n",
       "\n",
       "                                        analysis_url duration_ms  \\\n",
       "1  https://api.spotify.com/v1/audio-analysis/0yLd...      200455   \n",
       "2  https://api.spotify.com/v1/audio-analysis/3OHf...      153947   \n",
       "4  https://api.spotify.com/v1/audio-analysis/2dHH...      221520   \n",
       "5  https://api.spotify.com/v1/audio-analysis/0WtM...      239318   \n",
       "9  https://api.spotify.com/v1/audio-analysis/4uUG...      175238   \n",
       "\n",
       "  time_signature  \n",
       "1              4  \n",
       "2              4  \n",
       "4              4  \n",
       "5              4  \n",
       "9              4  \n",
       "\n",
       "[5 rows x 22 columns]"
      ]
     },
     "execution_count": 268,
     "metadata": {},
     "output_type": "execute_result"
    }
   ],
   "source": [
    "energetic_df = data.iloc[idx[0],:]\n",
    "energetic_df.head()"
   ]
  },
  {
   "cell_type": "markdown",
   "id": "ce188d19-4638-4049-88ef-c74e1373062a",
   "metadata": {},
   "source": [
    "## Analyzing"
   ]
  },
  {
   "cell_type": "code",
   "execution_count": 269,
   "id": "99ae543a-cc57-4571-b2f8-f4bc9f9b7479",
   "metadata": {},
   "outputs": [
    {
     "name": "stdout",
     "output_type": "stream",
     "text": [
      "61.0\n"
     ]
    }
   ],
   "source": [
    "# calculating percentage of songs that were energetic\n",
    "energetic = len(energetic_df)/len(data)*100\n",
    "print (energetic)"
   ]
  },
  {
   "cell_type": "code",
   "execution_count": 270,
   "id": "47ea67a5-e11f-4afe-9434-af7388fa6612",
   "metadata": {},
   "outputs": [
    {
     "name": "stdout",
     "output_type": "stream",
     "text": [
      "61.0\n"
     ]
    },
    {
     "data": {
      "text/plain": [
       "([<matplotlib.patches.Wedge at 0x2bcfd9a2ab0>,\n",
       "  <matplotlib.patches.Wedge at 0x2bcfd9a29f0>],\n",
       " [Text(-0.1354951850117065, 0.3763523014924227, 'energetic'),\n",
       "  Text(0.1354951850117066, -0.37635230149242266, 'not energetic')],\n",
       " [Text(-0.2032427775175597, 0.564528452238634, '61%'),\n",
       "  Text(0.20324277751755987, -0.5645284522386339, '39%')])"
      ]
     },
     "execution_count": 270,
     "metadata": {},
     "output_type": "execute_result"
    },
    {
     "data": {
      "image/png": "[encoded data removed]",
      "text/plain": [
       "<Figure size 640x480 with 1 Axes>"
      ]
     },
     "metadata": {},
     "output_type": "display_data"
    }
   ],
   "source": [
    "import seaborn as sns\n",
    "import matplotlib.pyplot as plt\n",
    "\n",
    "#df1 is energetic songs, df2 is all songs\n",
    "def piechart(df1, df2):    \n",
    "    # calculating percentage of songs that were energetic\n",
    "    energetic = len(df1)/len(df2)*100\n",
    "    print(energetic)\n",
    "    data = [energetic,(100-energetic)]\n",
    "    labels = ['energetic','not energetic']\n",
    "    colors = [\"#49DCB1\", \"#748386\"]\n",
    "    plot = plt.pie(data, labels=labels, labeldistance=0.4, autopct='%.0f%%', wedgeprops = {\"edgecolor\" : \"white\", 'linewidth': 2, 'antialiased': True}, colors = colors, \n",
    "                   textprops=dict(color=\"w\", weight=\"bold\"))\n",
    "    #plt.legend(labels, loc=\"best\")\n",
    "    return plot\n",
    "\n",
    "piechart(energetic_df, data)\n"
   ]
  },
  {
   "cell_type": "code",
   "execution_count": 271,
   "id": "ae7ab8fd-a394-49f5-8ec6-81d1be75a052",
   "metadata": {},
   "outputs": [
    {
     "data": {
      "text/plain": [
       "<Axes: xlabel='tempo', ylabel='Density'>"
      ]
     },
     "execution_count": 271,
     "metadata": {},
     "output_type": "execute_result"
    },
    {
     "data": {
      "image/png": "[encoded data removed]",
      "text/plain": [
       "<Figure size 640x480 with 1 Axes>"
      ]
     },
     "metadata": {},
     "output_type": "display_data"
    }
   ],
   "source": [
    "# kde for tempo\n",
    "\n",
    "def plot_tempo(df):\n",
    "    plot = sns.kdeplot(data = energetic_df, x='tempo')\n",
    "    plt.xlim(0,300)\n",
    "    return plot\n",
    "\n",
    "plot_tempo(energetic_df)"
   ]
  },
  {
   "cell_type": "code",
   "execution_count": 272,
   "id": "645130ac-c12d-42f3-92f7-37de5956d1af",
   "metadata": {},
   "outputs": [
    {
     "data": {
      "text/plain": [
       "<Axes: xlabel='loudness', ylabel='Density'>"
      ]
     },
     "execution_count": 272,
     "metadata": {},
     "output_type": "execute_result"
    },
    {
     "data": {
      "image/png": "[encoded data removed]",
      "text/plain": [
       "<Figure size 640x480 with 1 Axes>"
      ]
     },
     "metadata": {},
     "output_type": "display_data"
    }
   ],
   "source": [
    "def plot_loudness(df):\n",
    "    plot = sns.kdeplot(data = energetic_df, x = 'loudness')\n",
    "    return plot\n",
    "\n",
    "plot_loudness(energetic_df)"
   ]
  },
  {
   "cell_type": "code",
   "execution_count": 273,
   "id": "91d7122c-f936-4912-ad42-d3c0e0666164",
   "metadata": {},
   "outputs": [
    {
     "data": {
      "text/plain": [
       "<Axes: xlabel='mode', ylabel='percent'>"
      ]
     },
     "execution_count": 273,
     "metadata": {},
     "output_type": "execute_result"
    },
    {
     "data": {
      "image/png": "[encoded data removed]",
      "text/plain": [
       "<Figure size 640x480 with 1 Axes>"
      ]
     },
     "metadata": {},
     "output_type": "display_data"
    }
   ],
   "source": [
    "# barplot for mode\n",
    "\n",
    "def plot_mode(df):\n",
    "    plot = sns.countplot(df, x=\"mode\", stat=\"percent\", hue=\"mode\")\n",
    "    plt.legend(labels = ['minor', 'major'])\n",
    "    return plot\n",
    "\n",
    "plot_mode(energetic_df)"
   ]
  },
  {
   "cell_type": "code",
   "execution_count": 274,
   "id": "88451911-1fe4-48e9-a2ef-52d23ef09298",
   "metadata": {},
   "outputs": [
    {
     "name": "stderr",
     "output_type": "stream",
     "text": [
      "C:\\Users\\HP\\AppData\\Local\\Temp\\ipykernel_12816\\3156260127.py:5: UserWarning: \n",
      "The palette list has fewer values (2) than needed (12) and will cycle, which may produce an uninterpretable plot.\n",
      "  plot = sns.countplot(df, x = \"key\", stat=\"percent\", hue=\"key\", legend=False, palette=colors)\n"
     ]
    },
    {
     "data": {
      "text/plain": [
       "<Axes: xlabel='key', ylabel='percent'>"
      ]
     },
     "execution_count": 274,
     "metadata": {},
     "output_type": "execute_result"
    },
    {
     "data": {
      "image/png": "[encoded data removed]",
      "text/plain": [
       "<Figure size 640x480 with 1 Axes>"
      ]
     },
     "metadata": {},
     "output_type": "display_data"
    }
   ],
   "source": [
    "#barchart for key\n",
    "\n",
    "def plot_key (df):\n",
    "    colors = [\"#49DCB1\", \"#748386\"]\n",
    "    plot = sns.countplot(df, x = \"key\", stat=\"percent\", hue=\"key\", legend=False, palette=colors)\n",
    "    return plot\n",
    "\n",
    "plot_key(energetic_df)\n",
    "\n",
    "#palette='dark:green'"
   ]
  },
  {
   "cell_type": "code",
   "execution_count": 275,
   "id": "62b2fafe-1759-495f-9830-5ba3a6fc656b",
   "metadata": {},
   "outputs": [
    {
     "data": {
      "text/plain": [
       "<Axes: >"
      ]
     },
     "execution_count": 275,
     "metadata": {},
     "output_type": "execute_result"
    },
    {
     "data": {
      "image/png": "[encoded data removed]",
      "text/plain": [
       "<Figure size 640x480 with 1 Axes>"
      ]
     },
     "metadata": {},
     "output_type": "display_data"
    }
   ],
   "source": [
    "def plot_otherFeatures(df):\n",
    "    energetic_features = preprocess(df)\n",
    "    features_adj = energetic_features.drop(['key', 'mode', 'loudness','tempo'], axis=1)\n",
    "    chart = sns.barplot(data = features_adj, orient=\"y\", errorbar=None, color=\"limegreen\")\n",
    "    return chart\n",
    "\n",
    "barplot(energetic_df)"
   ]
  },
  {
   "cell_type": "code",
   "execution_count": null,
   "id": "1a0f4fec-c475-45f2-96dc-f44efa7d1397",
   "metadata": {},
   "outputs": [],
   "source": []
  }
 ],
 "metadata": {
  "kernelspec": {
   "display_name": "Python 3 (ipykernel)",
   "language": "python",
   "name": "python3"
  },
  "language_info": {
   "codemirror_mode": {
    "name": "ipython",
    "version": 3
   },
   "file_extension": ".py",
   "mimetype": "text/x-python",
   "name": "python",
   "nbconvert_exporter": "python",
   "pygments_lexer": "ipython3",
   "version": "3.12.1"
  }
 },
 "nbformat": 4,
 "nbformat_minor": 5
}
