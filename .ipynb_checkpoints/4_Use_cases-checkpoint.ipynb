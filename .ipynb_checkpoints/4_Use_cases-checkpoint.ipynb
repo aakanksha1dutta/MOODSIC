{
 "cells": [
  {
   "cell_type": "markdown",
   "metadata": {},
   "source": [
    "# Use Cases for our Model"
   ]
  },
  {
   "cell_type": "markdown",
   "metadata": {},
   "source": [
    "## Load Dependencies"
   ]
  },
  {
   "cell_type": "code",
   "execution_count": 8,
   "metadata": {},
   "outputs": [],
   "source": [
    "#import libraries\n",
    "import os\n",
    "import spotipy\n",
    "from spotipy.oauth2 import SpotifyClientCredentials\n",
    "from dotenv import load_dotenv, dotenv_values\n",
    "import re\n",
    "import pickle"
   ]
  },
  {
   "cell_type": "code",
   "execution_count": 2,
   "metadata": {},
   "outputs": [],
   "source": [
    "load_dotenv()\n",
    "client_id = os.getenv(\"CLIENT_ID\")\n",
    "client_secret = os.getenv(\"CLIENT_SECRET\")\n",
    "redirect_url = os.getenv(\"REDIRECT_URL\")"
   ]
  },
  {
   "cell_type": "code",
   "execution_count": 3,
   "metadata": {},
   "outputs": [],
   "source": [
    "auth_manager = SpotifyClientCredentials(client_id=client_id, client_secret=client_secret)\n",
    "sp = spotipy.Spotify(auth_manager=auth_manager)"
   ]
  },
  {
   "cell_type": "code",
   "execution_count": 4,
   "metadata": {},
   "outputs": [],
   "source": [
    "#extract uri function\n",
    "def extract_uri(url):\n",
    "    pattern = r'(track|album|artist)/([a-zA-Z0-9]{22})' #spotify uri is a 22 char alphanumeric identifier\n",
    "    \n",
    "    # Try to find a match in the URL\n",
    "    match = re.search(pattern, url)\n",
    "\n",
    "    # If a match is found, return the Spotify ID\n",
    "    if match:\n",
    "        return match.group(2)\n",
    "    else:\n",
    "        return None"
   ]
  },
  {
   "cell_type": "code",
   "execution_count": 11,
   "metadata": {},
   "outputs": [],
   "source": [
    "#load the model\n",
    "data = pickle.load(open(\"model.pk1\",\"rb\"))"
   ]
  },
  {
   "cell_type": "code",
   "execution_count": 12,
   "metadata": {},
   "outputs": [],
   "source": []
  },
  {
   "cell_type": "markdown",
   "metadata": {},
   "source": [
    "## 1. Take in spotify song URL and classify it as Energetic/Not energetic"
   ]
  },
  {
   "cell_type": "code",
   "execution_count": null,
   "metadata": {},
   "outputs": [],
   "source": [
    "def get_song_class(url):\n",
    "    uri = extract_uri(url)\n",
    "    audio_features = sp.audio_features(uri)[0]\n",
    "    \n",
    "\n",
    "    "
   ]
  },
  {
   "cell_type": "markdown",
   "metadata": {},
   "source": [
    "## 2. Find energetic songs from Spotify collections & generate a playlist\n",
    "- Playlist\n",
    "- Albums\n",
    "- Artist Discographies"
   ]
  },
  {
   "cell_type": "markdown",
   "metadata": {},
   "source": [
    "## Other thoughts:\n",
    "\n",
    "One can also use Oauth 2.0 Authorization flow for getting user's private content's access tokens from Spotify WEB API. This process is simple but require us to use Flask and HTML to provide server functionalities. With that, one can develop this additional functionality:\n",
    "\n",
    "####  Find energetic songs from User collections & generate a playlist\n",
    "- User Liked Songs\n",
    "- User Playlists\n",
    "- User Listening History"
   ]
  },
  {
   "cell_type": "markdown",
   "metadata": {},
   "source": []
  }
 ],
 "metadata": {
  "kernelspec": {
   "display_name": "spotify",
   "language": "python",
   "name": "spotify"
  },
  "language_info": {
   "codemirror_mode": {
    "name": "ipython",
    "version": 3
   },
   "file_extension": ".py",
   "mimetype": "text/x-python",
   "name": "python",
   "nbconvert_exporter": "python",
   "pygments_lexer": "ipython3",
   "version": "3.11.0"
  }
 },
 "nbformat": 4,
 "nbformat_minor": 2
}
