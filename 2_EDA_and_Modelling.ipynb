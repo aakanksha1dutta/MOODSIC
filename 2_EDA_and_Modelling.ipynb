{
 "cells": [
  {
   "cell_type": "markdown",
   "metadata": {},
   "source": [
    "# Exploratory Data Analysis and Modelling"
   ]
  },
  {
   "cell_type": "markdown",
   "metadata": {},
   "source": [
    "## Importing Necessary Libraries"
   ]
  },
  {
   "cell_type": "code",
   "execution_count": 118,
   "metadata": {},
   "outputs": [],
   "source": [
    "import pandas as pd\n",
    "import numpy as np\n",
    "import seaborn as sns\n",
    "import math\n",
    "import matplotlib.pyplot as plt\n",
    "from sklearn.preprocessing import MinMaxScaler, LabelEncoder"
   ]
  },
  {
   "cell_type": "markdown",
   "metadata": {},
   "source": [
    "## Reading the CSV file"
   ]
  },
  {
   "cell_type": "code",
   "execution_count": 119,
   "metadata": {},
   "outputs": [
    {
     "data": {
      "text/html": [
       "<div>\n",
       "<style scoped>\n",
       "    .dataframe tbody tr th:only-of-type {\n",
       "        vertical-align: middle;\n",
       "    }\n",
       "\n",
       "    .dataframe tbody tr th {\n",
       "        vertical-align: top;\n",
       "    }\n",
       "\n",
       "    .dataframe thead th {\n",
       "        text-align: right;\n",
       "    }\n",
       "</style>\n",
       "<table border=\"1\" class=\"dataframe\">\n",
       "  <thead>\n",
       "    <tr style=\"text-align: right;\">\n",
       "      <th></th>\n",
       "      <th>Unnamed: 0</th>\n",
       "      <th>track_id</th>\n",
       "      <th>track_name</th>\n",
       "      <th>first_artist</th>\n",
       "      <th>danceability</th>\n",
       "      <th>energy</th>\n",
       "      <th>key</th>\n",
       "      <th>loudness</th>\n",
       "      <th>mode</th>\n",
       "      <th>speechiness</th>\n",
       "      <th>acousticness</th>\n",
       "      <th>instrumentalness</th>\n",
       "      <th>liveness</th>\n",
       "      <th>valence</th>\n",
       "      <th>tempo</th>\n",
       "      <th>uri</th>\n",
       "      <th>duration_ms</th>\n",
       "      <th>time_signature</th>\n",
       "      <th>mood</th>\n",
       "    </tr>\n",
       "  </thead>\n",
       "  <tbody>\n",
       "    <tr>\n",
       "      <th>0</th>\n",
       "      <td>0</td>\n",
       "      <td>7tqhbajSfrz2F7E1Z75ASX</td>\n",
       "      <td>Ain't No Mountain High Enough</td>\n",
       "      <td>Marvin Gaye</td>\n",
       "      <td>0.663</td>\n",
       "      <td>0.6</td>\n",
       "      <td>7</td>\n",
       "      <td>-10.87</td>\n",
       "      <td>1</td>\n",
       "      <td>0.032</td>\n",
       "      <td>0.43</td>\n",
       "      <td>0.0</td>\n",
       "      <td>0.184</td>\n",
       "      <td>0.8</td>\n",
       "      <td>129.991</td>\n",
       "      <td>spotify:track:7tqhbajSfrz2F7E1Z75ASX</td>\n",
       "      <td>151667</td>\n",
       "      <td>4</td>\n",
       "      <td>happy</td>\n",
       "    </tr>\n",
       "  </tbody>\n",
       "</table>\n",
       "</div>"
      ],
      "text/plain": [
       "   Unnamed: 0                track_id                     track_name  \\\n",
       "0           0  7tqhbajSfrz2F7E1Z75ASX  Ain't No Mountain High Enough   \n",
       "\n",
       "  first_artist  danceability  energy  key  loudness  mode  speechiness  \\\n",
       "0  Marvin Gaye         0.663     0.6    7    -10.87     1        0.032   \n",
       "\n",
       "   acousticness  instrumentalness  liveness  valence    tempo  \\\n",
       "0          0.43               0.0     0.184      0.8  129.991   \n",
       "\n",
       "                                    uri  duration_ms  time_signature   mood  \n",
       "0  spotify:track:7tqhbajSfrz2F7E1Z75ASX       151667               4  happy  "
      ]
     },
     "execution_count": 119,
     "metadata": {},
     "output_type": "execute_result"
    }
   ],
   "source": [
    "track_df = pd.read_csv('spotifytrackinfo.csv')\n",
    "track_df.head(1)"
   ]
  },
  {
   "cell_type": "markdown",
   "metadata": {},
   "source": [
    "Since we already have an index column, we can drop the index."
   ]
  },
  {
   "cell_type": "code",
   "execution_count": 120,
   "metadata": {},
   "outputs": [
    {
     "data": {
      "text/html": [
       "<div>\n",
       "<style scoped>\n",
       "    .dataframe tbody tr th:only-of-type {\n",
       "        vertical-align: middle;\n",
       "    }\n",
       "\n",
       "    .dataframe tbody tr th {\n",
       "        vertical-align: top;\n",
       "    }\n",
       "\n",
       "    .dataframe thead th {\n",
       "        text-align: right;\n",
       "    }\n",
       "</style>\n",
       "<table border=\"1\" class=\"dataframe\">\n",
       "  <thead>\n",
       "    <tr style=\"text-align: right;\">\n",
       "      <th></th>\n",
       "      <th>track_id</th>\n",
       "      <th>track_name</th>\n",
       "      <th>first_artist</th>\n",
       "      <th>danceability</th>\n",
       "      <th>energy</th>\n",
       "      <th>key</th>\n",
       "      <th>loudness</th>\n",
       "      <th>mode</th>\n",
       "      <th>speechiness</th>\n",
       "      <th>acousticness</th>\n",
       "      <th>instrumentalness</th>\n",
       "      <th>liveness</th>\n",
       "      <th>valence</th>\n",
       "      <th>tempo</th>\n",
       "      <th>uri</th>\n",
       "      <th>duration_ms</th>\n",
       "      <th>time_signature</th>\n",
       "      <th>mood</th>\n",
       "    </tr>\n",
       "  </thead>\n",
       "  <tbody>\n",
       "    <tr>\n",
       "      <th>0</th>\n",
       "      <td>7tqhbajSfrz2F7E1Z75ASX</td>\n",
       "      <td>Ain't No Mountain High Enough</td>\n",
       "      <td>Marvin Gaye</td>\n",
       "      <td>0.663</td>\n",
       "      <td>0.6</td>\n",
       "      <td>7</td>\n",
       "      <td>-10.87</td>\n",
       "      <td>1</td>\n",
       "      <td>0.032</td>\n",
       "      <td>0.43</td>\n",
       "      <td>0.0</td>\n",
       "      <td>0.184</td>\n",
       "      <td>0.8</td>\n",
       "      <td>129.991</td>\n",
       "      <td>spotify:track:7tqhbajSfrz2F7E1Z75ASX</td>\n",
       "      <td>151667</td>\n",
       "      <td>4</td>\n",
       "      <td>happy</td>\n",
       "    </tr>\n",
       "  </tbody>\n",
       "</table>\n",
       "</div>"
      ],
      "text/plain": [
       "                 track_id                     track_name first_artist  \\\n",
       "0  7tqhbajSfrz2F7E1Z75ASX  Ain't No Mountain High Enough  Marvin Gaye   \n",
       "\n",
       "   danceability  energy  key  loudness  mode  speechiness  acousticness  \\\n",
       "0         0.663     0.6    7    -10.87     1        0.032          0.43   \n",
       "\n",
       "   instrumentalness  liveness  valence    tempo  \\\n",
       "0               0.0     0.184      0.8  129.991   \n",
       "\n",
       "                                    uri  duration_ms  time_signature   mood  \n",
       "0  spotify:track:7tqhbajSfrz2F7E1Z75ASX       151667               4  happy  "
      ]
     },
     "execution_count": 120,
     "metadata": {},
     "output_type": "execute_result"
    }
   ],
   "source": [
    "track_df.drop('Unnamed: 0', inplace=True, axis=1)\n",
    "track_df.head(1)"
   ]
  },
  {
   "cell_type": "markdown",
   "metadata": {},
   "source": [
    "# Exploring the Data"
   ]
  },
  {
   "cell_type": "code",
   "execution_count": 121,
   "metadata": {},
   "outputs": [
    {
     "data": {
      "text/html": [
       "<div>\n",
       "<style scoped>\n",
       "    .dataframe tbody tr th:only-of-type {\n",
       "        vertical-align: middle;\n",
       "    }\n",
       "\n",
       "    .dataframe tbody tr th {\n",
       "        vertical-align: top;\n",
       "    }\n",
       "\n",
       "    .dataframe thead th {\n",
       "        text-align: right;\n",
       "    }\n",
       "</style>\n",
       "<table border=\"1\" class=\"dataframe\">\n",
       "  <thead>\n",
       "    <tr style=\"text-align: right;\">\n",
       "      <th></th>\n",
       "      <th>danceability</th>\n",
       "      <th>energy</th>\n",
       "      <th>key</th>\n",
       "      <th>loudness</th>\n",
       "      <th>mode</th>\n",
       "      <th>speechiness</th>\n",
       "      <th>acousticness</th>\n",
       "      <th>instrumentalness</th>\n",
       "      <th>liveness</th>\n",
       "      <th>valence</th>\n",
       "      <th>tempo</th>\n",
       "      <th>duration_ms</th>\n",
       "      <th>time_signature</th>\n",
       "    </tr>\n",
       "  </thead>\n",
       "  <tbody>\n",
       "    <tr>\n",
       "      <th>count</th>\n",
       "      <td>1420.000000</td>\n",
       "      <td>1420.000000</td>\n",
       "      <td>1420.000000</td>\n",
       "      <td>1420.000000</td>\n",
       "      <td>1420.000000</td>\n",
       "      <td>1420.000000</td>\n",
       "      <td>1420.000000</td>\n",
       "      <td>1420.000000</td>\n",
       "      <td>1420.000000</td>\n",
       "      <td>1420.000000</td>\n",
       "      <td>1420.000000</td>\n",
       "      <td>1420.000000</td>\n",
       "      <td>1420.000000</td>\n",
       "    </tr>\n",
       "    <tr>\n",
       "      <th>mean</th>\n",
       "      <td>0.610639</td>\n",
       "      <td>0.556466</td>\n",
       "      <td>5.149296</td>\n",
       "      <td>-8.322734</td>\n",
       "      <td>0.706338</td>\n",
       "      <td>0.065444</td>\n",
       "      <td>0.365333</td>\n",
       "      <td>0.056656</td>\n",
       "      <td>0.169778</td>\n",
       "      <td>0.477549</td>\n",
       "      <td>118.535581</td>\n",
       "      <td>211259.254930</td>\n",
       "      <td>3.895775</td>\n",
       "    </tr>\n",
       "    <tr>\n",
       "      <th>std</th>\n",
       "      <td>0.147548</td>\n",
       "      <td>0.222184</td>\n",
       "      <td>3.564007</td>\n",
       "      <td>3.620045</td>\n",
       "      <td>0.455599</td>\n",
       "      <td>0.065977</td>\n",
       "      <td>0.316665</td>\n",
       "      <td>0.173492</td>\n",
       "      <td>0.135339</td>\n",
       "      <td>0.242011</td>\n",
       "      <td>28.194598</td>\n",
       "      <td>51346.174221</td>\n",
       "      <td>0.377834</td>\n",
       "    </tr>\n",
       "    <tr>\n",
       "      <th>min</th>\n",
       "      <td>0.112000</td>\n",
       "      <td>0.033200</td>\n",
       "      <td>0.000000</td>\n",
       "      <td>-24.646000</td>\n",
       "      <td>0.000000</td>\n",
       "      <td>0.023600</td>\n",
       "      <td>0.000008</td>\n",
       "      <td>0.000000</td>\n",
       "      <td>0.023200</td>\n",
       "      <td>0.027700</td>\n",
       "      <td>46.923000</td>\n",
       "      <td>87000.000000</td>\n",
       "      <td>1.000000</td>\n",
       "    </tr>\n",
       "    <tr>\n",
       "      <th>25%</th>\n",
       "      <td>0.511000</td>\n",
       "      <td>0.392000</td>\n",
       "      <td>2.000000</td>\n",
       "      <td>-10.477750</td>\n",
       "      <td>0.000000</td>\n",
       "      <td>0.032400</td>\n",
       "      <td>0.070225</td>\n",
       "      <td>0.000000</td>\n",
       "      <td>0.096775</td>\n",
       "      <td>0.266000</td>\n",
       "      <td>97.040750</td>\n",
       "      <td>176354.500000</td>\n",
       "      <td>4.000000</td>\n",
       "    </tr>\n",
       "    <tr>\n",
       "      <th>50%</th>\n",
       "      <td>0.621000</td>\n",
       "      <td>0.568500</td>\n",
       "      <td>5.000000</td>\n",
       "      <td>-7.753500</td>\n",
       "      <td>1.000000</td>\n",
       "      <td>0.041950</td>\n",
       "      <td>0.271000</td>\n",
       "      <td>0.000034</td>\n",
       "      <td>0.115000</td>\n",
       "      <td>0.470500</td>\n",
       "      <td>118.391500</td>\n",
       "      <td>207527.500000</td>\n",
       "      <td>4.000000</td>\n",
       "    </tr>\n",
       "    <tr>\n",
       "      <th>75%</th>\n",
       "      <td>0.715000</td>\n",
       "      <td>0.731000</td>\n",
       "      <td>8.000000</td>\n",
       "      <td>-5.642000</td>\n",
       "      <td>1.000000</td>\n",
       "      <td>0.066625</td>\n",
       "      <td>0.635250</td>\n",
       "      <td>0.004542</td>\n",
       "      <td>0.189000</td>\n",
       "      <td>0.674000</td>\n",
       "      <td>135.232500</td>\n",
       "      <td>240149.750000</td>\n",
       "      <td>4.000000</td>\n",
       "    </tr>\n",
       "    <tr>\n",
       "      <th>max</th>\n",
       "      <td>0.978000</td>\n",
       "      <td>0.997000</td>\n",
       "      <td>11.000000</td>\n",
       "      <td>0.080000</td>\n",
       "      <td>1.000000</td>\n",
       "      <td>0.563000</td>\n",
       "      <td>0.993000</td>\n",
       "      <td>0.949000</td>\n",
       "      <td>0.951000</td>\n",
       "      <td>0.980000</td>\n",
       "      <td>209.942000</td>\n",
       "      <td>486187.000000</td>\n",
       "      <td>5.000000</td>\n",
       "    </tr>\n",
       "  </tbody>\n",
       "</table>\n",
       "</div>"
      ],
      "text/plain": [
       "       danceability       energy          key     loudness         mode  \\\n",
       "count   1420.000000  1420.000000  1420.000000  1420.000000  1420.000000   \n",
       "mean       0.610639     0.556466     5.149296    -8.322734     0.706338   \n",
       "std        0.147548     0.222184     3.564007     3.620045     0.455599   \n",
       "min        0.112000     0.033200     0.000000   -24.646000     0.000000   \n",
       "25%        0.511000     0.392000     2.000000   -10.477750     0.000000   \n",
       "50%        0.621000     0.568500     5.000000    -7.753500     1.000000   \n",
       "75%        0.715000     0.731000     8.000000    -5.642000     1.000000   \n",
       "max        0.978000     0.997000    11.000000     0.080000     1.000000   \n",
       "\n",
       "       speechiness  acousticness  instrumentalness     liveness      valence  \\\n",
       "count  1420.000000   1420.000000       1420.000000  1420.000000  1420.000000   \n",
       "mean      0.065444      0.365333          0.056656     0.169778     0.477549   \n",
       "std       0.065977      0.316665          0.173492     0.135339     0.242011   \n",
       "min       0.023600      0.000008          0.000000     0.023200     0.027700   \n",
       "25%       0.032400      0.070225          0.000000     0.096775     0.266000   \n",
       "50%       0.041950      0.271000          0.000034     0.115000     0.470500   \n",
       "75%       0.066625      0.635250          0.004542     0.189000     0.674000   \n",
       "max       0.563000      0.993000          0.949000     0.951000     0.980000   \n",
       "\n",
       "             tempo    duration_ms  time_signature  \n",
       "count  1420.000000    1420.000000     1420.000000  \n",
       "mean    118.535581  211259.254930        3.895775  \n",
       "std      28.194598   51346.174221        0.377834  \n",
       "min      46.923000   87000.000000        1.000000  \n",
       "25%      97.040750  176354.500000        4.000000  \n",
       "50%     118.391500  207527.500000        4.000000  \n",
       "75%     135.232500  240149.750000        4.000000  \n",
       "max     209.942000  486187.000000        5.000000  "
      ]
     },
     "execution_count": 121,
     "metadata": {},
     "output_type": "execute_result"
    }
   ],
   "source": [
    "track_df.describe()"
   ]
  },
  {
   "cell_type": "markdown",
   "metadata": {},
   "source": [
    "## Checking if any missing values present"
   ]
  },
  {
   "cell_type": "code",
   "execution_count": 122,
   "metadata": {},
   "outputs": [
    {
     "name": "stdout",
     "output_type": "stream",
     "text": [
      "False\n"
     ]
    }
   ],
   "source": [
    "print (track_df.isnull().values.any())"
   ]
  },
  {
   "cell_type": "code",
   "execution_count": 123,
   "metadata": {},
   "outputs": [
    {
     "name": "stdout",
     "output_type": "stream",
     "text": [
      "track_id            0\n",
      "track_name          0\n",
      "first_artist        0\n",
      "danceability        0\n",
      "energy              0\n",
      "key                 0\n",
      "loudness            0\n",
      "mode                0\n",
      "speechiness         0\n",
      "acousticness        0\n",
      "instrumentalness    0\n",
      "liveness            0\n",
      "valence             0\n",
      "tempo               0\n",
      "uri                 0\n",
      "duration_ms         0\n",
      "time_signature      0\n",
      "mood                0\n",
      "dtype: int64\n"
     ]
    }
   ],
   "source": [
    "# missing values for each feature\n",
    "# verfying all should be 0\n",
    "print (track_df.isnull().sum())"
   ]
  },
  {
   "cell_type": "markdown",
   "metadata": {},
   "source": [
    "## Exploring relationship between features using correlation"
   ]
  },
  {
   "cell_type": "code",
   "execution_count": 124,
   "metadata": {},
   "outputs": [
    {
     "data": {
      "text/html": [
       "<div>\n",
       "<style scoped>\n",
       "    .dataframe tbody tr th:only-of-type {\n",
       "        vertical-align: middle;\n",
       "    }\n",
       "\n",
       "    .dataframe tbody tr th {\n",
       "        vertical-align: top;\n",
       "    }\n",
       "\n",
       "    .dataframe thead th {\n",
       "        text-align: right;\n",
       "    }\n",
       "</style>\n",
       "<table border=\"1\" class=\"dataframe\">\n",
       "  <thead>\n",
       "    <tr style=\"text-align: right;\">\n",
       "      <th></th>\n",
       "      <th>danceability</th>\n",
       "      <th>energy</th>\n",
       "      <th>key</th>\n",
       "      <th>loudness</th>\n",
       "      <th>mode</th>\n",
       "      <th>speechiness</th>\n",
       "      <th>acousticness</th>\n",
       "      <th>instrumentalness</th>\n",
       "      <th>liveness</th>\n",
       "      <th>valence</th>\n",
       "      <th>tempo</th>\n",
       "    </tr>\n",
       "  </thead>\n",
       "  <tbody>\n",
       "    <tr>\n",
       "      <th>0</th>\n",
       "      <td>0.636259</td>\n",
       "      <td>0.588089</td>\n",
       "      <td>0.636364</td>\n",
       "      <td>0.557146</td>\n",
       "      <td>1.0</td>\n",
       "      <td>0.015573</td>\n",
       "      <td>0.433027</td>\n",
       "      <td>0.000000</td>\n",
       "      <td>0.173313</td>\n",
       "      <td>0.810984</td>\n",
       "      <td>0.509560</td>\n",
       "    </tr>\n",
       "    <tr>\n",
       "      <th>1</th>\n",
       "      <td>0.479215</td>\n",
       "      <td>0.396140</td>\n",
       "      <td>0.363636</td>\n",
       "      <td>0.533649</td>\n",
       "      <td>0.0</td>\n",
       "      <td>0.182425</td>\n",
       "      <td>0.460217</td>\n",
       "      <td>0.000018</td>\n",
       "      <td>0.101099</td>\n",
       "      <td>0.511708</td>\n",
       "      <td>0.191671</td>\n",
       "    </tr>\n",
       "    <tr>\n",
       "      <th>2</th>\n",
       "      <td>0.531178</td>\n",
       "      <td>0.399253</td>\n",
       "      <td>0.000000</td>\n",
       "      <td>0.562485</td>\n",
       "      <td>1.0</td>\n",
       "      <td>0.020949</td>\n",
       "      <td>0.639474</td>\n",
       "      <td>0.000000</td>\n",
       "      <td>0.078573</td>\n",
       "      <td>0.699674</td>\n",
       "      <td>0.353597</td>\n",
       "    </tr>\n",
       "    <tr>\n",
       "      <th>3</th>\n",
       "      <td>0.758661</td>\n",
       "      <td>0.346337</td>\n",
       "      <td>0.181818</td>\n",
       "      <td>0.542749</td>\n",
       "      <td>1.0</td>\n",
       "      <td>0.014090</td>\n",
       "      <td>0.688819</td>\n",
       "      <td>0.000017</td>\n",
       "      <td>0.062298</td>\n",
       "      <td>0.532710</td>\n",
       "      <td>0.347800</td>\n",
       "    </tr>\n",
       "    <tr>\n",
       "      <th>4</th>\n",
       "      <td>0.621247</td>\n",
       "      <td>0.283046</td>\n",
       "      <td>0.818182</td>\n",
       "      <td>0.614859</td>\n",
       "      <td>1.0</td>\n",
       "      <td>0.029106</td>\n",
       "      <td>0.574015</td>\n",
       "      <td>0.000007</td>\n",
       "      <td>0.051196</td>\n",
       "      <td>0.606217</td>\n",
       "      <td>0.436422</td>\n",
       "    </tr>\n",
       "  </tbody>\n",
       "</table>\n",
       "</div>"
      ],
      "text/plain": [
       "   danceability    energy       key  loudness  mode  speechiness  \\\n",
       "0      0.636259  0.588089  0.636364  0.557146   1.0     0.015573   \n",
       "1      0.479215  0.396140  0.363636  0.533649   0.0     0.182425   \n",
       "2      0.531178  0.399253  0.000000  0.562485   1.0     0.020949   \n",
       "3      0.758661  0.346337  0.181818  0.542749   1.0     0.014090   \n",
       "4      0.621247  0.283046  0.818182  0.614859   1.0     0.029106   \n",
       "\n",
       "   acousticness  instrumentalness  liveness   valence     tempo  \n",
       "0      0.433027          0.000000  0.173313  0.810984  0.509560  \n",
       "1      0.460217          0.000018  0.101099  0.511708  0.191671  \n",
       "2      0.639474          0.000000  0.078573  0.699674  0.353597  \n",
       "3      0.688819          0.000017  0.062298  0.532710  0.347800  \n",
       "4      0.574015          0.000007  0.051196  0.606217  0.436422  "
      ]
     },
     "execution_count": 124,
     "metadata": {},
     "output_type": "execute_result"
    }
   ],
   "source": [
    "features_df = track_df[['danceability','energy','key','loudness','mode','speechiness','acousticness','instrumentalness','liveness','valence','tempo']]\n",
    "\n",
    "# scaling data\n",
    "scaler = MinMaxScaler()\n",
    "\n",
    "scaled_df = scaler.fit_transform(features_df)\n",
    "features_df = pd.DataFrame(scaled_df, columns=features_df.columns)\n",
    "features_df.head()"
   ]
  },
  {
   "cell_type": "code",
   "execution_count": 125,
   "metadata": {},
   "outputs": [
    {
     "name": "stdout",
     "output_type": "stream",
     "text": [
      "                  danceability    energy       key  loudness      mode  \\\n",
      "danceability          1.000000  0.328006  0.024707  0.292807 -0.141857   \n",
      "energy                0.328006  1.000000  0.009986  0.785707 -0.135593   \n",
      "key                   0.024707  0.009986  1.000000 -0.012389 -0.105786   \n",
      "loudness              0.292807  0.785707 -0.012389  1.000000 -0.097724   \n",
      "mode                 -0.141857 -0.135593 -0.105786 -0.097724  1.000000   \n",
      "speechiness           0.226337  0.142866  0.038207  0.161497 -0.130627   \n",
      "acousticness         -0.373065 -0.732727 -0.017916 -0.601154  0.105797   \n",
      "instrumentalness     -0.089933 -0.106008 -0.002945 -0.251905 -0.009051   \n",
      "liveness             -0.014417  0.165957  0.013753  0.135028 -0.054065   \n",
      "valence               0.460216  0.471141  0.006531  0.294851 -0.044409   \n",
      "tempo                -0.058673  0.165064  0.020305  0.110527 -0.001124   \n",
      "\n",
      "                  speechiness  acousticness  instrumentalness  liveness  \\\n",
      "danceability         0.226337     -0.373065         -0.089933 -0.014417   \n",
      "energy               0.142866     -0.732727         -0.106008  0.165957   \n",
      "key                  0.038207     -0.017916         -0.002945  0.013753   \n",
      "loudness             0.161497     -0.601154         -0.251905  0.135028   \n",
      "mode                -0.130627      0.105797         -0.009051 -0.054065   \n",
      "speechiness          1.000000     -0.194626         -0.089579  0.121521   \n",
      "acousticness        -0.194626      1.000000          0.168350 -0.090509   \n",
      "instrumentalness    -0.089579      0.168350          1.000000 -0.023858   \n",
      "liveness             0.121521     -0.090509         -0.023858  1.000000   \n",
      "valence              0.073100     -0.335640         -0.126667  0.035858   \n",
      "tempo                0.127960     -0.137358          0.002791  0.020092   \n",
      "\n",
      "                   valence     tempo  \n",
      "danceability      0.460216 -0.058673  \n",
      "energy            0.471141  0.165064  \n",
      "key               0.006531  0.020305  \n",
      "loudness          0.294851  0.110527  \n",
      "mode             -0.044409 -0.001124  \n",
      "speechiness       0.073100  0.127960  \n",
      "acousticness     -0.335640 -0.137358  \n",
      "instrumentalness -0.126667  0.002791  \n",
      "liveness          0.035858  0.020092  \n",
      "valence           1.000000  0.056046  \n",
      "tempo             0.056046  1.000000  \n"
     ]
    }
   ],
   "source": [
    "# finding correlation between features\n",
    "corr_matrix = features_df.corr()\n",
    "print (corr_matrix)"
   ]
  },
  {
   "cell_type": "code",
   "execution_count": 126,
   "metadata": {},
   "outputs": [
    {
     "data": {
      "image/png": "[encoded data removed]",
      "text/plain": [
       "<Figure size 1000x800 with 2 Axes>"
      ]
     },
     "metadata": {},
     "output_type": "display_data"
    }
   ],
   "source": [
    "#For better visualizaion, using a heatmap\n",
    "%matplotlib inline\n",
    "plt.figure(figsize=(10, 8))\n",
    "sns.heatmap(abs(corr_matrix), annot=True, cmap='Blues', fmt=\".2f\")\n",
    "plt.title('Correlation Heatmap')\n",
    "plt.show()"
   ]
  },
  {
   "cell_type": "markdown",
   "metadata": {},
   "source": [
    "`Loudness` and `Energy` have an almost 80% correlation. While we can drop one of these, we can run our model first with both of them as features, and second time, with one of them dropped. We drop the one with a lower variance since theoretically, it will have lesser explainaibility capacity. Then comparing the performance, we can make a decision."
   ]
  },
  {
   "cell_type": "code",
   "execution_count": 127,
   "metadata": {},
   "outputs": [
    {
     "name": "stdout",
     "output_type": "stream",
     "text": [
      "0.02141974773298273 0.053106496444470436\n"
     ]
    }
   ],
   "source": [
    "variance_loudness = np.var(features_df['loudness'])\n",
    "variance_energy = np.var(features_df['energy'])\n",
    "\n",
    "print(variance_loudness, variance_energy)"
   ]
  },
  {
   "cell_type": "markdown",
   "metadata": {},
   "source": [
    "Hence we can drop `Loudness` as a feature for our check."
   ]
  },
  {
   "cell_type": "markdown",
   "metadata": {},
   "source": [
    "## Encoding our categorical classes"
   ]
  },
  {
   "cell_type": "markdown",
   "metadata": {},
   "source": [
    "We will use One Hot Encoding since there is no order to the classes. We do not want to introduce bias in our models and force an order. It must be equally likely to pick any of the classes. "
   ]
  },
  {
   "cell_type": "code",
   "execution_count": 128,
   "metadata": {},
   "outputs": [
    {
     "data": {
      "text/plain": [
       "array([0, 1, 2, 3])"
      ]
     },
     "execution_count": 128,
     "metadata": {},
     "output_type": "execute_result"
    }
   ],
   "source": [
    "encoder = LabelEncoder()\n",
    "encoder.fit(track_df.mood)\n",
    "encoded_mood = encoder.transform(track_df.mood)\n",
    "\n",
    "np.unique(encoded_mood)"
   ]
  },
  {
   "cell_type": "code",
   "execution_count": 129,
   "metadata": {},
   "outputs": [
    {
     "data": {
      "text/plain": [
       "array(['calm', 'energetic', 'happy', 'sad'], dtype=object)"
      ]
     },
     "execution_count": 129,
     "metadata": {},
     "output_type": "execute_result"
    }
   ],
   "source": [
    "encoder.inverse_transform([0,1,2,3])"
   ]
  },
  {
   "cell_type": "code",
   "execution_count": 130,
   "metadata": {},
   "outputs": [],
   "source": [
    "track_df['y'] = encoded_mood "
   ]
  },
  {
   "cell_type": "markdown",
   "metadata": {},
   "source": [
    "## Choosing an appropriate model with Stratified K fold Cross Validation"
   ]
  },
  {
   "cell_type": "markdown",
   "metadata": {},
   "source": [
    "We know the features are in `features_df` while the target classes are in `track_df['y]`. First let us perform a check with two models, kNN and Random Forest to check the performance of the model with \n",
    "1. all the features \n",
    "2. `Loudness` droppped"
   ]
  },
  {
   "cell_type": "markdown",
   "metadata": {},
   "source": [
    "## Selecting a Model using K Fold Cross Validation (with all the features)"
   ]
  },
  {
   "cell_type": "markdown",
   "metadata": {},
   "source": [
    "### kNN"
   ]
  },
  {
   "cell_type": "code",
   "execution_count": 131,
   "metadata": {},
   "outputs": [
    {
     "name": "stdout",
     "output_type": "stream",
     "text": [
      "knn with 10 nn:  0.4999850690556178\n",
      "knn with 20 nn:  0.5211048898842852\n",
      "knn with 100 nn:  0.5091377379619261\n"
     ]
    }
   ],
   "source": [
    "#knn\n",
    "from sklearn.model_selection import cross_val_score\n",
    "from sklearn.neighbors import KNeighborsClassifier\n",
    "import statistics as stat\n",
    "\n",
    "knn = KNeighborsClassifier(n_neighbors=10)\n",
    "print(\"knn with 10 nn: \",stat.mean(cross_val_score(knn, features_df,track_df['y'], cv = 15)))\n",
    "\n",
    "\n",
    "\n",
    "knn = KNeighborsClassifier(n_neighbors=20)\n",
    "print(\"knn with 20 nn: \",stat.mean(cross_val_score(knn, features_df,track_df['y'], cv = 15)))\n",
    "\n",
    "\n",
    "knn = KNeighborsClassifier(n_neighbors=100)\n",
    "print(\"knn with 100 nn: \",stat.mean(cross_val_score(knn, features_df,track_df['y'], cv = 15)))"
   ]
  },
  {
   "cell_type": "markdown",
   "metadata": {},
   "source": [
    "We are also noting that the model performs similary for 10,20 and 100 nearest neighbors. The max performance is achieved at n = 20. Hence we are better off choosing _20 nearest neighbors_."
   ]
  },
  {
   "cell_type": "markdown",
   "metadata": {},
   "source": [
    "### Random Forests"
   ]
  },
  {
   "cell_type": "code",
   "execution_count": 132,
   "metadata": {},
   "outputs": [
    {
     "name": "stdout",
     "output_type": "stream",
     "text": [
      "rf with 100 trees:  0.5414333706606943\n",
      "rf with 200 trees:  0.5436207540126913\n",
      "rf with 500 trees:  0.5400671892497201\n"
     ]
    }
   ],
   "source": [
    "#random forest\n",
    "from sklearn.ensemble import RandomForestClassifier\n",
    "\n",
    "rf = RandomForestClassifier(n_estimators=100)\n",
    "print(\"rf with 100 trees: \",stat.mean(cross_val_score(rf, features_df,track_df['y'], cv = 15)))\n",
    "\n",
    "rf = RandomForestClassifier(n_estimators=200)\n",
    "print(\"rf with 200 trees: \",stat.mean(cross_val_score(rf, features_df,track_df['y'], cv = 15)))\n",
    "\n",
    "rf = RandomForestClassifier(n_estimators=500)\n",
    "print(\"rf with 500 trees: \",stat.mean(cross_val_score(rf, features_df,track_df['y'], cv = 15)))"
   ]
  },
  {
   "cell_type": "markdown",
   "metadata": {},
   "source": [
    "Again, we are better off using n = 200 trees since the model plateaus with increase in number of trees. 200 trees (which is the default number of trees in the model) is sufficient to use as a parameter for our model."
   ]
  },
  {
   "cell_type": "markdown",
   "metadata": {},
   "source": [
    "## Cross Validating with Loudness dropped as a feature"
   ]
  },
  {
   "cell_type": "code",
   "execution_count": 133,
   "metadata": {},
   "outputs": [
    {
     "data": {
      "text/html": [
       "<div>\n",
       "<style scoped>\n",
       "    .dataframe tbody tr th:only-of-type {\n",
       "        vertical-align: middle;\n",
       "    }\n",
       "\n",
       "    .dataframe tbody tr th {\n",
       "        vertical-align: top;\n",
       "    }\n",
       "\n",
       "    .dataframe thead th {\n",
       "        text-align: right;\n",
       "    }\n",
       "</style>\n",
       "<table border=\"1\" class=\"dataframe\">\n",
       "  <thead>\n",
       "    <tr style=\"text-align: right;\">\n",
       "      <th></th>\n",
       "      <th>danceability</th>\n",
       "      <th>energy</th>\n",
       "      <th>key</th>\n",
       "      <th>mode</th>\n",
       "      <th>speechiness</th>\n",
       "      <th>acousticness</th>\n",
       "      <th>instrumentalness</th>\n",
       "      <th>liveness</th>\n",
       "      <th>valence</th>\n",
       "      <th>tempo</th>\n",
       "    </tr>\n",
       "  </thead>\n",
       "  <tbody>\n",
       "    <tr>\n",
       "      <th>0</th>\n",
       "      <td>0.636259</td>\n",
       "      <td>0.588089</td>\n",
       "      <td>0.636364</td>\n",
       "      <td>1.0</td>\n",
       "      <td>0.015573</td>\n",
       "      <td>0.433027</td>\n",
       "      <td>0.000000</td>\n",
       "      <td>0.173313</td>\n",
       "      <td>0.810984</td>\n",
       "      <td>0.509560</td>\n",
       "    </tr>\n",
       "    <tr>\n",
       "      <th>1</th>\n",
       "      <td>0.479215</td>\n",
       "      <td>0.396140</td>\n",
       "      <td>0.363636</td>\n",
       "      <td>0.0</td>\n",
       "      <td>0.182425</td>\n",
       "      <td>0.460217</td>\n",
       "      <td>0.000018</td>\n",
       "      <td>0.101099</td>\n",
       "      <td>0.511708</td>\n",
       "      <td>0.191671</td>\n",
       "    </tr>\n",
       "    <tr>\n",
       "      <th>2</th>\n",
       "      <td>0.531178</td>\n",
       "      <td>0.399253</td>\n",
       "      <td>0.000000</td>\n",
       "      <td>1.0</td>\n",
       "      <td>0.020949</td>\n",
       "      <td>0.639474</td>\n",
       "      <td>0.000000</td>\n",
       "      <td>0.078573</td>\n",
       "      <td>0.699674</td>\n",
       "      <td>0.353597</td>\n",
       "    </tr>\n",
       "    <tr>\n",
       "      <th>3</th>\n",
       "      <td>0.758661</td>\n",
       "      <td>0.346337</td>\n",
       "      <td>0.181818</td>\n",
       "      <td>1.0</td>\n",
       "      <td>0.014090</td>\n",
       "      <td>0.688819</td>\n",
       "      <td>0.000017</td>\n",
       "      <td>0.062298</td>\n",
       "      <td>0.532710</td>\n",
       "      <td>0.347800</td>\n",
       "    </tr>\n",
       "    <tr>\n",
       "      <th>4</th>\n",
       "      <td>0.621247</td>\n",
       "      <td>0.283046</td>\n",
       "      <td>0.818182</td>\n",
       "      <td>1.0</td>\n",
       "      <td>0.029106</td>\n",
       "      <td>0.574015</td>\n",
       "      <td>0.000007</td>\n",
       "      <td>0.051196</td>\n",
       "      <td>0.606217</td>\n",
       "      <td>0.436422</td>\n",
       "    </tr>\n",
       "  </tbody>\n",
       "</table>\n",
       "</div>"
      ],
      "text/plain": [
       "   danceability    energy       key  mode  speechiness  acousticness  \\\n",
       "0      0.636259  0.588089  0.636364   1.0     0.015573      0.433027   \n",
       "1      0.479215  0.396140  0.363636   0.0     0.182425      0.460217   \n",
       "2      0.531178  0.399253  0.000000   1.0     0.020949      0.639474   \n",
       "3      0.758661  0.346337  0.181818   1.0     0.014090      0.688819   \n",
       "4      0.621247  0.283046  0.818182   1.0     0.029106      0.574015   \n",
       "\n",
       "   instrumentalness  liveness   valence     tempo  \n",
       "0          0.000000  0.173313  0.810984  0.509560  \n",
       "1          0.000018  0.101099  0.511708  0.191671  \n",
       "2          0.000000  0.078573  0.699674  0.353597  \n",
       "3          0.000017  0.062298  0.532710  0.347800  \n",
       "4          0.000007  0.051196  0.606217  0.436422  "
      ]
     },
     "execution_count": 133,
     "metadata": {},
     "output_type": "execute_result"
    }
   ],
   "source": [
    "# since loudness has the lower variance, we are dropping it from the track features\n",
    "features_df2 = features_df.drop('loudness', axis=1)\n",
    "features_df2.head()"
   ]
  },
  {
   "cell_type": "markdown",
   "metadata": {},
   "source": [
    "Doing the same that we did above, but with modified features dataframe."
   ]
  },
  {
   "cell_type": "code",
   "execution_count": 134,
   "metadata": {},
   "outputs": [
    {
     "name": "stdout",
     "output_type": "stream",
     "text": [
      "knn with 10 nn:  0.49782754759238523\n",
      "knn with 20 nn:  0.5056065696155282\n",
      "knn with 100 nn:  0.5084135871593878\n"
     ]
    }
   ],
   "source": [
    "#knn\n",
    "from sklearn.model_selection import cross_val_score\n",
    "from sklearn.neighbors import KNeighborsClassifier\n",
    "import statistics as stat\n",
    "\n",
    "knn = KNeighborsClassifier(n_neighbors=10)\n",
    "print(\"knn with 10 nn: \",stat.mean(cross_val_score(knn, features_df2,track_df['y'], cv = 15)))\n",
    "\n",
    "\n",
    "\n",
    "knn = KNeighborsClassifier(n_neighbors=20)\n",
    "print(\"knn with 20 nn: \",stat.mean(cross_val_score(knn, features_df2,track_df['y'], cv = 15)))\n",
    "\n",
    "\n",
    "knn = KNeighborsClassifier(n_neighbors=100)\n",
    "print(\"knn with 100 nn: \",stat.mean(cross_val_score(knn, features_df2,track_df['y'], cv = 15)))"
   ]
  },
  {
   "cell_type": "code",
   "execution_count": 135,
   "metadata": {},
   "outputs": [
    {
     "name": "stdout",
     "output_type": "stream",
     "text": [
      "rf with 100 trees:  0.5343934303844718\n",
      "rf with 200 trees:  0.5386188876446435\n",
      "rf with 500 trees:  0.5329451287793953\n"
     ]
    }
   ],
   "source": [
    "#random forest\n",
    "from sklearn.ensemble import RandomForestClassifier\n",
    "\n",
    "rf = RandomForestClassifier(n_estimators=100)\n",
    "print(\"rf with 100 trees: \",stat.mean(cross_val_score(rf, features_df2,track_df['y'], cv = 15)))\n",
    "\n",
    "rf = RandomForestClassifier(n_estimators=200)\n",
    "print(\"rf with 200 trees: \",stat.mean(cross_val_score(rf, features_df2,track_df['y'], cv = 15)))\n",
    "\n",
    "rf = RandomForestClassifier(n_estimators=500)\n",
    "print(\"rf with 500 trees: \",stat.mean(cross_val_score(rf, features_df2,track_df['y'], cv = 15)))"
   ]
  },
  {
   "cell_type": "markdown",
   "metadata": {},
   "source": [
    "This is comparatively worse than with the model trained with all of the features. Hence, we keep all of the features!"
   ]
  },
  {
   "cell_type": "code",
   "execution_count": 136,
   "metadata": {},
   "outputs": [],
   "source": [
    "#delete the dataframe since we do not need it!\n",
    "del(features_df2)"
   ]
  }
 ],
 "metadata": {
  "kernelspec": {
   "display_name": "spotify",
   "language": "python",
   "name": "spotify"
  },
  "language_info": {
   "codemirror_mode": {
    "name": "ipython",
    "version": 3
   },
   "file_extension": ".py",
   "mimetype": "text/x-python",
   "name": "python",
   "nbconvert_exporter": "python",
   "pygments_lexer": "ipython3",
   "version": "3.11.0"
  }
 },
 "nbformat": 4,
 "nbformat_minor": 4
}
