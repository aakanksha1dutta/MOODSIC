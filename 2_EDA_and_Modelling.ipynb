{
 "cells": [
  {
   "cell_type": "markdown",
   "metadata": {},
   "source": [
    "# Exploratory Data Analysis and Modelling"
   ]
  },
  {
   "cell_type": "markdown",
   "metadata": {},
   "source": [
    "## Importing Necessary Libraries"
   ]
  },
  {
   "cell_type": "code",
   "execution_count": 4,
   "metadata": {},
   "outputs": [],
   "source": [
    "import pandas as pd\n",
    "import numpy as np\n",
    "import seaborn as sns\n",
    "import math\n",
    "import matplotlib.pyplot as plt\n",
    "from sklearn.preprocessing import MinMaxScaler, LabelEncoder"
   ]
  },
  {
   "cell_type": "markdown",
   "metadata": {},
   "source": [
    "## Reading the CSV file"
   ]
  },
  {
   "cell_type": "code",
   "execution_count": 5,
   "metadata": {},
   "outputs": [
    {
     "data": {
      "text/html": [
       "<div>\n",
       "<style scoped>\n",
       "    .dataframe tbody tr th:only-of-type {\n",
       "        vertical-align: middle;\n",
       "    }\n",
       "\n",
       "    .dataframe tbody tr th {\n",
       "        vertical-align: top;\n",
       "    }\n",
       "\n",
       "    .dataframe thead th {\n",
       "        text-align: right;\n",
       "    }\n",
       "</style>\n",
       "<table border=\"1\" class=\"dataframe\">\n",
       "  <thead>\n",
       "    <tr style=\"text-align: right;\">\n",
       "      <th></th>\n",
       "      <th>Unnamed: 0</th>\n",
       "      <th>track_id</th>\n",
       "      <th>track_name</th>\n",
       "      <th>first_artist</th>\n",
       "      <th>danceability</th>\n",
       "      <th>energy</th>\n",
       "      <th>key</th>\n",
       "      <th>loudness</th>\n",
       "      <th>mode</th>\n",
       "      <th>speechiness</th>\n",
       "      <th>acousticness</th>\n",
       "      <th>instrumentalness</th>\n",
       "      <th>liveness</th>\n",
       "      <th>valence</th>\n",
       "      <th>tempo</th>\n",
       "      <th>uri</th>\n",
       "      <th>duration_ms</th>\n",
       "      <th>time_signature</th>\n",
       "      <th>mood</th>\n",
       "    </tr>\n",
       "  </thead>\n",
       "  <tbody>\n",
       "    <tr>\n",
       "      <th>0</th>\n",
       "      <td>0</td>\n",
       "      <td>7tqhbajSfrz2F7E1Z75ASX</td>\n",
       "      <td>Ain't No Mountain High Enough</td>\n",
       "      <td>Marvin Gaye</td>\n",
       "      <td>0.663</td>\n",
       "      <td>0.6</td>\n",
       "      <td>7</td>\n",
       "      <td>-10.87</td>\n",
       "      <td>1</td>\n",
       "      <td>0.032</td>\n",
       "      <td>0.43</td>\n",
       "      <td>0.0</td>\n",
       "      <td>0.184</td>\n",
       "      <td>0.8</td>\n",
       "      <td>129.991</td>\n",
       "      <td>spotify:track:7tqhbajSfrz2F7E1Z75ASX</td>\n",
       "      <td>151667</td>\n",
       "      <td>4</td>\n",
       "      <td>happy</td>\n",
       "    </tr>\n",
       "  </tbody>\n",
       "</table>\n",
       "</div>"
      ],
      "text/plain": [
       "   Unnamed: 0                track_id                     track_name  \\\n",
       "0           0  7tqhbajSfrz2F7E1Z75ASX  Ain't No Mountain High Enough   \n",
       "\n",
       "  first_artist  danceability  energy  key  loudness  mode  speechiness  \\\n",
       "0  Marvin Gaye         0.663     0.6    7    -10.87     1        0.032   \n",
       "\n",
       "   acousticness  instrumentalness  liveness  valence    tempo  \\\n",
       "0          0.43               0.0     0.184      0.8  129.991   \n",
       "\n",
       "                                    uri  duration_ms  time_signature   mood  \n",
       "0  spotify:track:7tqhbajSfrz2F7E1Z75ASX       151667               4  happy  "
      ]
     },
     "execution_count": 5,
     "metadata": {},
     "output_type": "execute_result"
    }
   ],
   "source": [
    "track_df = pd.read_csv('spotifytrackinfo.csv')\n",
    "track_df.head(1)"
   ]
  },
  {
   "cell_type": "markdown",
   "metadata": {},
   "source": [
    "Since we already have an index column, we can drop the index."
   ]
  },
  {
   "cell_type": "code",
   "execution_count": 6,
   "metadata": {},
   "outputs": [
    {
     "data": {
      "text/html": [
       "<div>\n",
       "<style scoped>\n",
       "    .dataframe tbody tr th:only-of-type {\n",
       "        vertical-align: middle;\n",
       "    }\n",
       "\n",
       "    .dataframe tbody tr th {\n",
       "        vertical-align: top;\n",
       "    }\n",
       "\n",
       "    .dataframe thead th {\n",
       "        text-align: right;\n",
       "    }\n",
       "</style>\n",
       "<table border=\"1\" class=\"dataframe\">\n",
       "  <thead>\n",
       "    <tr style=\"text-align: right;\">\n",
       "      <th></th>\n",
       "      <th>track_id</th>\n",
       "      <th>track_name</th>\n",
       "      <th>first_artist</th>\n",
       "      <th>danceability</th>\n",
       "      <th>energy</th>\n",
       "      <th>key</th>\n",
       "      <th>loudness</th>\n",
       "      <th>mode</th>\n",
       "      <th>speechiness</th>\n",
       "      <th>acousticness</th>\n",
       "      <th>instrumentalness</th>\n",
       "      <th>liveness</th>\n",
       "      <th>valence</th>\n",
       "      <th>tempo</th>\n",
       "      <th>uri</th>\n",
       "      <th>duration_ms</th>\n",
       "      <th>time_signature</th>\n",
       "      <th>mood</th>\n",
       "    </tr>\n",
       "  </thead>\n",
       "  <tbody>\n",
       "    <tr>\n",
       "      <th>0</th>\n",
       "      <td>7tqhbajSfrz2F7E1Z75ASX</td>\n",
       "      <td>Ain't No Mountain High Enough</td>\n",
       "      <td>Marvin Gaye</td>\n",
       "      <td>0.663</td>\n",
       "      <td>0.6</td>\n",
       "      <td>7</td>\n",
       "      <td>-10.87</td>\n",
       "      <td>1</td>\n",
       "      <td>0.032</td>\n",
       "      <td>0.43</td>\n",
       "      <td>0.0</td>\n",
       "      <td>0.184</td>\n",
       "      <td>0.8</td>\n",
       "      <td>129.991</td>\n",
       "      <td>spotify:track:7tqhbajSfrz2F7E1Z75ASX</td>\n",
       "      <td>151667</td>\n",
       "      <td>4</td>\n",
       "      <td>happy</td>\n",
       "    </tr>\n",
       "  </tbody>\n",
       "</table>\n",
       "</div>"
      ],
      "text/plain": [
       "                 track_id                     track_name first_artist  \\\n",
       "0  7tqhbajSfrz2F7E1Z75ASX  Ain't No Mountain High Enough  Marvin Gaye   \n",
       "\n",
       "   danceability  energy  key  loudness  mode  speechiness  acousticness  \\\n",
       "0         0.663     0.6    7    -10.87     1        0.032          0.43   \n",
       "\n",
       "   instrumentalness  liveness  valence    tempo  \\\n",
       "0               0.0     0.184      0.8  129.991   \n",
       "\n",
       "                                    uri  duration_ms  time_signature   mood  \n",
       "0  spotify:track:7tqhbajSfrz2F7E1Z75ASX       151667               4  happy  "
      ]
     },
     "execution_count": 6,
     "metadata": {},
     "output_type": "execute_result"
    }
   ],
   "source": [
    "track_df.drop('Unnamed: 0', inplace=True, axis=1)\n",
    "track_df.head(1)"
   ]
  },
  {
   "cell_type": "code",
   "execution_count": 7,
   "metadata": {},
   "outputs": [
    {
     "data": {
      "text/html": [
       "<div>\n",
       "<style scoped>\n",
       "    .dataframe tbody tr th:only-of-type {\n",
       "        vertical-align: middle;\n",
       "    }\n",
       "\n",
       "    .dataframe tbody tr th {\n",
       "        vertical-align: top;\n",
       "    }\n",
       "\n",
       "    .dataframe thead th {\n",
       "        text-align: right;\n",
       "    }\n",
       "</style>\n",
       "<table border=\"1\" class=\"dataframe\">\n",
       "  <thead>\n",
       "    <tr style=\"text-align: right;\">\n",
       "      <th></th>\n",
       "      <th>track_id</th>\n",
       "      <th>track_name</th>\n",
       "      <th>first_artist</th>\n",
       "      <th>danceability</th>\n",
       "      <th>energy</th>\n",
       "      <th>key</th>\n",
       "      <th>loudness</th>\n",
       "      <th>mode</th>\n",
       "      <th>speechiness</th>\n",
       "      <th>acousticness</th>\n",
       "      <th>instrumentalness</th>\n",
       "      <th>liveness</th>\n",
       "      <th>valence</th>\n",
       "      <th>tempo</th>\n",
       "      <th>uri</th>\n",
       "      <th>duration_ms</th>\n",
       "      <th>time_signature</th>\n",
       "      <th>mood</th>\n",
       "      <th>energetic</th>\n",
       "    </tr>\n",
       "  </thead>\n",
       "  <tbody>\n",
       "    <tr>\n",
       "      <th>0</th>\n",
       "      <td>7tqhbajSfrz2F7E1Z75ASX</td>\n",
       "      <td>Ain't No Mountain High Enough</td>\n",
       "      <td>Marvin Gaye</td>\n",
       "      <td>0.663</td>\n",
       "      <td>0.600</td>\n",
       "      <td>7</td>\n",
       "      <td>-10.870</td>\n",
       "      <td>1</td>\n",
       "      <td>0.0320</td>\n",
       "      <td>0.430</td>\n",
       "      <td>0.000000</td>\n",
       "      <td>0.1840</td>\n",
       "      <td>0.800</td>\n",
       "      <td>129.991</td>\n",
       "      <td>spotify:track:7tqhbajSfrz2F7E1Z75ASX</td>\n",
       "      <td>151667</td>\n",
       "      <td>4</td>\n",
       "      <td>happy</td>\n",
       "      <td>0</td>\n",
       "    </tr>\n",
       "    <tr>\n",
       "      <th>1</th>\n",
       "      <td>1k1Bqnv2R0uJXQN4u6LKYt</td>\n",
       "      <td>Ain't No Sunshine</td>\n",
       "      <td>Bill Withers</td>\n",
       "      <td>0.527</td>\n",
       "      <td>0.415</td>\n",
       "      <td>4</td>\n",
       "      <td>-11.451</td>\n",
       "      <td>0</td>\n",
       "      <td>0.1220</td>\n",
       "      <td>0.457</td>\n",
       "      <td>0.000017</td>\n",
       "      <td>0.1170</td>\n",
       "      <td>0.515</td>\n",
       "      <td>78.169</td>\n",
       "      <td>spotify:track:1k1Bqnv2R0uJXQN4u6LKYt</td>\n",
       "      <td>125093</td>\n",
       "      <td>4</td>\n",
       "      <td>happy</td>\n",
       "      <td>0</td>\n",
       "    </tr>\n",
       "    <tr>\n",
       "      <th>2</th>\n",
       "      <td>745H5CctFr12Mo7cqa1BMH</td>\n",
       "      <td>My Girl</td>\n",
       "      <td>The Temptations</td>\n",
       "      <td>0.572</td>\n",
       "      <td>0.418</td>\n",
       "      <td>0</td>\n",
       "      <td>-10.738</td>\n",
       "      <td>1</td>\n",
       "      <td>0.0349</td>\n",
       "      <td>0.635</td>\n",
       "      <td>0.000000</td>\n",
       "      <td>0.0961</td>\n",
       "      <td>0.694</td>\n",
       "      <td>104.566</td>\n",
       "      <td>spotify:track:745H5CctFr12Mo7cqa1BMH</td>\n",
       "      <td>165000</td>\n",
       "      <td>4</td>\n",
       "      <td>happy</td>\n",
       "      <td>0</td>\n",
       "    </tr>\n",
       "    <tr>\n",
       "      <th>3</th>\n",
       "      <td>3zBhihYUHBmGd2bcQIobrF</td>\n",
       "      <td>(Sittin' On) the Dock of the Bay</td>\n",
       "      <td>Otis Redding</td>\n",
       "      <td>0.769</td>\n",
       "      <td>0.367</td>\n",
       "      <td>2</td>\n",
       "      <td>-11.226</td>\n",
       "      <td>1</td>\n",
       "      <td>0.0312</td>\n",
       "      <td>0.684</td>\n",
       "      <td>0.000016</td>\n",
       "      <td>0.0810</td>\n",
       "      <td>0.535</td>\n",
       "      <td>103.621</td>\n",
       "      <td>spotify:track:3zBhihYUHBmGd2bcQIobrF</td>\n",
       "      <td>163756</td>\n",
       "      <td>4</td>\n",
       "      <td>happy</td>\n",
       "      <td>0</td>\n",
       "    </tr>\n",
       "    <tr>\n",
       "      <th>4</th>\n",
       "      <td>3SdTKo2uVsxFblQjpScoHy</td>\n",
       "      <td>Stand by Me</td>\n",
       "      <td>Ben E. King</td>\n",
       "      <td>0.650</td>\n",
       "      <td>0.306</td>\n",
       "      <td>9</td>\n",
       "      <td>-9.443</td>\n",
       "      <td>1</td>\n",
       "      <td>0.0393</td>\n",
       "      <td>0.570</td>\n",
       "      <td>0.000007</td>\n",
       "      <td>0.0707</td>\n",
       "      <td>0.605</td>\n",
       "      <td>118.068</td>\n",
       "      <td>spotify:track:3SdTKo2uVsxFblQjpScoHy</td>\n",
       "      <td>180056</td>\n",
       "      <td>4</td>\n",
       "      <td>happy</td>\n",
       "      <td>0</td>\n",
       "    </tr>\n",
       "  </tbody>\n",
       "</table>\n",
       "</div>"
      ],
      "text/plain": [
       "                 track_id                        track_name     first_artist  \\\n",
       "0  7tqhbajSfrz2F7E1Z75ASX     Ain't No Mountain High Enough      Marvin Gaye   \n",
       "1  1k1Bqnv2R0uJXQN4u6LKYt                 Ain't No Sunshine     Bill Withers   \n",
       "2  745H5CctFr12Mo7cqa1BMH                           My Girl  The Temptations   \n",
       "3  3zBhihYUHBmGd2bcQIobrF  (Sittin' On) the Dock of the Bay     Otis Redding   \n",
       "4  3SdTKo2uVsxFblQjpScoHy                       Stand by Me      Ben E. King   \n",
       "\n",
       "   danceability  energy  key  loudness  mode  speechiness  acousticness  \\\n",
       "0         0.663   0.600    7   -10.870     1       0.0320         0.430   \n",
       "1         0.527   0.415    4   -11.451     0       0.1220         0.457   \n",
       "2         0.572   0.418    0   -10.738     1       0.0349         0.635   \n",
       "3         0.769   0.367    2   -11.226     1       0.0312         0.684   \n",
       "4         0.650   0.306    9    -9.443     1       0.0393         0.570   \n",
       "\n",
       "   instrumentalness  liveness  valence    tempo  \\\n",
       "0          0.000000    0.1840    0.800  129.991   \n",
       "1          0.000017    0.1170    0.515   78.169   \n",
       "2          0.000000    0.0961    0.694  104.566   \n",
       "3          0.000016    0.0810    0.535  103.621   \n",
       "4          0.000007    0.0707    0.605  118.068   \n",
       "\n",
       "                                    uri  duration_ms  time_signature   mood  \\\n",
       "0  spotify:track:7tqhbajSfrz2F7E1Z75ASX       151667               4  happy   \n",
       "1  spotify:track:1k1Bqnv2R0uJXQN4u6LKYt       125093               4  happy   \n",
       "2  spotify:track:745H5CctFr12Mo7cqa1BMH       165000               4  happy   \n",
       "3  spotify:track:3zBhihYUHBmGd2bcQIobrF       163756               4  happy   \n",
       "4  spotify:track:3SdTKo2uVsxFblQjpScoHy       180056               4  happy   \n",
       "\n",
       "   energetic  \n",
       "0          0  \n",
       "1          0  \n",
       "2          0  \n",
       "3          0  \n",
       "4          0  "
      ]
     },
     "execution_count": 7,
     "metadata": {},
     "output_type": "execute_result"
    }
   ],
   "source": [
    "# adding column \"energetic\"\n",
    "def is_energetic(mood):\n",
    "    return 1 if 'energetic' in mood else 0\n",
    "\n",
    "track_df['energetic'] = track_df['mood'].apply(lambda x: is_energetic(x))\n",
    "track_df.head()"
   ]
  },
  {
   "cell_type": "markdown",
   "metadata": {},
   "source": [
    "# Exploring the Data"
   ]
  },
  {
   "cell_type": "code",
   "execution_count": 8,
   "metadata": {},
   "outputs": [
    {
     "data": {
      "text/html": [
       "<div>\n",
       "<style scoped>\n",
       "    .dataframe tbody tr th:only-of-type {\n",
       "        vertical-align: middle;\n",
       "    }\n",
       "\n",
       "    .dataframe tbody tr th {\n",
       "        vertical-align: top;\n",
       "    }\n",
       "\n",
       "    .dataframe thead th {\n",
       "        text-align: right;\n",
       "    }\n",
       "</style>\n",
       "<table border=\"1\" class=\"dataframe\">\n",
       "  <thead>\n",
       "    <tr style=\"text-align: right;\">\n",
       "      <th></th>\n",
       "      <th>danceability</th>\n",
       "      <th>energy</th>\n",
       "      <th>key</th>\n",
       "      <th>loudness</th>\n",
       "      <th>mode</th>\n",
       "      <th>speechiness</th>\n",
       "      <th>acousticness</th>\n",
       "      <th>instrumentalness</th>\n",
       "      <th>liveness</th>\n",
       "      <th>valence</th>\n",
       "      <th>tempo</th>\n",
       "      <th>duration_ms</th>\n",
       "      <th>time_signature</th>\n",
       "      <th>energetic</th>\n",
       "    </tr>\n",
       "  </thead>\n",
       "  <tbody>\n",
       "    <tr>\n",
       "      <th>count</th>\n",
       "      <td>1420.000000</td>\n",
       "      <td>1420.000000</td>\n",
       "      <td>1420.000000</td>\n",
       "      <td>1420.000000</td>\n",
       "      <td>1420.000000</td>\n",
       "      <td>1420.000000</td>\n",
       "      <td>1420.000000</td>\n",
       "      <td>1420.000000</td>\n",
       "      <td>1420.000000</td>\n",
       "      <td>1420.000000</td>\n",
       "      <td>1420.000000</td>\n",
       "      <td>1420.000000</td>\n",
       "      <td>1420.000000</td>\n",
       "      <td>1420.000000</td>\n",
       "    </tr>\n",
       "    <tr>\n",
       "      <th>mean</th>\n",
       "      <td>0.610639</td>\n",
       "      <td>0.556466</td>\n",
       "      <td>5.149296</td>\n",
       "      <td>-8.322734</td>\n",
       "      <td>0.706338</td>\n",
       "      <td>0.065444</td>\n",
       "      <td>0.365333</td>\n",
       "      <td>0.056656</td>\n",
       "      <td>0.169778</td>\n",
       "      <td>0.477549</td>\n",
       "      <td>118.535581</td>\n",
       "      <td>211259.254930</td>\n",
       "      <td>3.895775</td>\n",
       "      <td>0.274648</td>\n",
       "    </tr>\n",
       "    <tr>\n",
       "      <th>std</th>\n",
       "      <td>0.147548</td>\n",
       "      <td>0.222184</td>\n",
       "      <td>3.564007</td>\n",
       "      <td>3.620045</td>\n",
       "      <td>0.455599</td>\n",
       "      <td>0.065977</td>\n",
       "      <td>0.316665</td>\n",
       "      <td>0.173492</td>\n",
       "      <td>0.135339</td>\n",
       "      <td>0.242011</td>\n",
       "      <td>28.194598</td>\n",
       "      <td>51346.174221</td>\n",
       "      <td>0.377834</td>\n",
       "      <td>0.446494</td>\n",
       "    </tr>\n",
       "    <tr>\n",
       "      <th>min</th>\n",
       "      <td>0.112000</td>\n",
       "      <td>0.033200</td>\n",
       "      <td>0.000000</td>\n",
       "      <td>-24.646000</td>\n",
       "      <td>0.000000</td>\n",
       "      <td>0.023600</td>\n",
       "      <td>0.000008</td>\n",
       "      <td>0.000000</td>\n",
       "      <td>0.023200</td>\n",
       "      <td>0.027700</td>\n",
       "      <td>46.923000</td>\n",
       "      <td>87000.000000</td>\n",
       "      <td>1.000000</td>\n",
       "      <td>0.000000</td>\n",
       "    </tr>\n",
       "    <tr>\n",
       "      <th>25%</th>\n",
       "      <td>0.511000</td>\n",
       "      <td>0.392000</td>\n",
       "      <td>2.000000</td>\n",
       "      <td>-10.477750</td>\n",
       "      <td>0.000000</td>\n",
       "      <td>0.032400</td>\n",
       "      <td>0.070225</td>\n",
       "      <td>0.000000</td>\n",
       "      <td>0.096775</td>\n",
       "      <td>0.266000</td>\n",
       "      <td>97.040750</td>\n",
       "      <td>176354.500000</td>\n",
       "      <td>4.000000</td>\n",
       "      <td>0.000000</td>\n",
       "    </tr>\n",
       "    <tr>\n",
       "      <th>50%</th>\n",
       "      <td>0.621000</td>\n",
       "      <td>0.568500</td>\n",
       "      <td>5.000000</td>\n",
       "      <td>-7.753500</td>\n",
       "      <td>1.000000</td>\n",
       "      <td>0.041950</td>\n",
       "      <td>0.271000</td>\n",
       "      <td>0.000034</td>\n",
       "      <td>0.115000</td>\n",
       "      <td>0.470500</td>\n",
       "      <td>118.391500</td>\n",
       "      <td>207527.500000</td>\n",
       "      <td>4.000000</td>\n",
       "      <td>0.000000</td>\n",
       "    </tr>\n",
       "    <tr>\n",
       "      <th>75%</th>\n",
       "      <td>0.715000</td>\n",
       "      <td>0.731000</td>\n",
       "      <td>8.000000</td>\n",
       "      <td>-5.642000</td>\n",
       "      <td>1.000000</td>\n",
       "      <td>0.066625</td>\n",
       "      <td>0.635250</td>\n",
       "      <td>0.004542</td>\n",
       "      <td>0.189000</td>\n",
       "      <td>0.674000</td>\n",
       "      <td>135.232500</td>\n",
       "      <td>240149.750000</td>\n",
       "      <td>4.000000</td>\n",
       "      <td>1.000000</td>\n",
       "    </tr>\n",
       "    <tr>\n",
       "      <th>max</th>\n",
       "      <td>0.978000</td>\n",
       "      <td>0.997000</td>\n",
       "      <td>11.000000</td>\n",
       "      <td>0.080000</td>\n",
       "      <td>1.000000</td>\n",
       "      <td>0.563000</td>\n",
       "      <td>0.993000</td>\n",
       "      <td>0.949000</td>\n",
       "      <td>0.951000</td>\n",
       "      <td>0.980000</td>\n",
       "      <td>209.942000</td>\n",
       "      <td>486187.000000</td>\n",
       "      <td>5.000000</td>\n",
       "      <td>1.000000</td>\n",
       "    </tr>\n",
       "  </tbody>\n",
       "</table>\n",
       "</div>"
      ],
      "text/plain": [
       "       danceability       energy          key     loudness         mode  \\\n",
       "count   1420.000000  1420.000000  1420.000000  1420.000000  1420.000000   \n",
       "mean       0.610639     0.556466     5.149296    -8.322734     0.706338   \n",
       "std        0.147548     0.222184     3.564007     3.620045     0.455599   \n",
       "min        0.112000     0.033200     0.000000   -24.646000     0.000000   \n",
       "25%        0.511000     0.392000     2.000000   -10.477750     0.000000   \n",
       "50%        0.621000     0.568500     5.000000    -7.753500     1.000000   \n",
       "75%        0.715000     0.731000     8.000000    -5.642000     1.000000   \n",
       "max        0.978000     0.997000    11.000000     0.080000     1.000000   \n",
       "\n",
       "       speechiness  acousticness  instrumentalness     liveness      valence  \\\n",
       "count  1420.000000   1420.000000       1420.000000  1420.000000  1420.000000   \n",
       "mean      0.065444      0.365333          0.056656     0.169778     0.477549   \n",
       "std       0.065977      0.316665          0.173492     0.135339     0.242011   \n",
       "min       0.023600      0.000008          0.000000     0.023200     0.027700   \n",
       "25%       0.032400      0.070225          0.000000     0.096775     0.266000   \n",
       "50%       0.041950      0.271000          0.000034     0.115000     0.470500   \n",
       "75%       0.066625      0.635250          0.004542     0.189000     0.674000   \n",
       "max       0.563000      0.993000          0.949000     0.951000     0.980000   \n",
       "\n",
       "             tempo    duration_ms  time_signature    energetic  \n",
       "count  1420.000000    1420.000000     1420.000000  1420.000000  \n",
       "mean    118.535581  211259.254930        3.895775     0.274648  \n",
       "std      28.194598   51346.174221        0.377834     0.446494  \n",
       "min      46.923000   87000.000000        1.000000     0.000000  \n",
       "25%      97.040750  176354.500000        4.000000     0.000000  \n",
       "50%     118.391500  207527.500000        4.000000     0.000000  \n",
       "75%     135.232500  240149.750000        4.000000     1.000000  \n",
       "max     209.942000  486187.000000        5.000000     1.000000  "
      ]
     },
     "execution_count": 8,
     "metadata": {},
     "output_type": "execute_result"
    }
   ],
   "source": [
    "track_df.describe()"
   ]
  },
  {
   "cell_type": "markdown",
   "metadata": {},
   "source": [
    "## Checking if any missing values present"
   ]
  },
  {
   "cell_type": "code",
   "execution_count": 9,
   "metadata": {},
   "outputs": [
    {
     "name": "stdout",
     "output_type": "stream",
     "text": [
      "False\n"
     ]
    }
   ],
   "source": [
    "print (track_df.isnull().values.any())"
   ]
  },
  {
   "cell_type": "code",
   "execution_count": 10,
   "metadata": {},
   "outputs": [
    {
     "name": "stdout",
     "output_type": "stream",
     "text": [
      "track_id            0\n",
      "track_name          0\n",
      "first_artist        0\n",
      "danceability        0\n",
      "energy              0\n",
      "key                 0\n",
      "loudness            0\n",
      "mode                0\n",
      "speechiness         0\n",
      "acousticness        0\n",
      "instrumentalness    0\n",
      "liveness            0\n",
      "valence             0\n",
      "tempo               0\n",
      "uri                 0\n",
      "duration_ms         0\n",
      "time_signature      0\n",
      "mood                0\n",
      "energetic           0\n",
      "dtype: int64\n"
     ]
    }
   ],
   "source": [
    "# missing values for each feature\n",
    "# verfying all should be 0\n",
    "print (track_df.isnull().sum())"
   ]
  },
  {
   "cell_type": "markdown",
   "metadata": {},
   "source": [
    "## Exploring relationship between features using correlation"
   ]
  },
  {
   "cell_type": "code",
   "execution_count": 11,
   "metadata": {},
   "outputs": [
    {
     "data": {
      "text/html": [
       "<div>\n",
       "<style scoped>\n",
       "    .dataframe tbody tr th:only-of-type {\n",
       "        vertical-align: middle;\n",
       "    }\n",
       "\n",
       "    .dataframe tbody tr th {\n",
       "        vertical-align: top;\n",
       "    }\n",
       "\n",
       "    .dataframe thead th {\n",
       "        text-align: right;\n",
       "    }\n",
       "</style>\n",
       "<table border=\"1\" class=\"dataframe\">\n",
       "  <thead>\n",
       "    <tr style=\"text-align: right;\">\n",
       "      <th></th>\n",
       "      <th>danceability</th>\n",
       "      <th>energy</th>\n",
       "      <th>key</th>\n",
       "      <th>loudness</th>\n",
       "      <th>mode</th>\n",
       "      <th>speechiness</th>\n",
       "      <th>acousticness</th>\n",
       "      <th>instrumentalness</th>\n",
       "      <th>liveness</th>\n",
       "      <th>valence</th>\n",
       "      <th>tempo</th>\n",
       "    </tr>\n",
       "  </thead>\n",
       "  <tbody>\n",
       "    <tr>\n",
       "      <th>count</th>\n",
       "      <td>1420.000000</td>\n",
       "      <td>1420.000000</td>\n",
       "      <td>1420.000000</td>\n",
       "      <td>1420.000000</td>\n",
       "      <td>1420.000000</td>\n",
       "      <td>1420.000000</td>\n",
       "      <td>1420.000000</td>\n",
       "      <td>1420.000000</td>\n",
       "      <td>1420.000000</td>\n",
       "      <td>1420.000000</td>\n",
       "      <td>1420.000000</td>\n",
       "    </tr>\n",
       "    <tr>\n",
       "      <th>mean</th>\n",
       "      <td>0.575795</td>\n",
       "      <td>0.542920</td>\n",
       "      <td>0.468118</td>\n",
       "      <td>0.660166</td>\n",
       "      <td>0.706338</td>\n",
       "      <td>0.077575</td>\n",
       "      <td>0.367903</td>\n",
       "      <td>0.059701</td>\n",
       "      <td>0.157985</td>\n",
       "      <td>0.472381</td>\n",
       "      <td>0.439290</td>\n",
       "    </tr>\n",
       "    <tr>\n",
       "      <th>std</th>\n",
       "      <td>0.170379</td>\n",
       "      <td>0.230530</td>\n",
       "      <td>0.324001</td>\n",
       "      <td>0.146406</td>\n",
       "      <td>0.455599</td>\n",
       "      <td>0.122315</td>\n",
       "      <td>0.318899</td>\n",
       "      <td>0.182815</td>\n",
       "      <td>0.145871</td>\n",
       "      <td>0.254133</td>\n",
       "      <td>0.172953</td>\n",
       "    </tr>\n",
       "    <tr>\n",
       "      <th>min</th>\n",
       "      <td>0.000000</td>\n",
       "      <td>0.000000</td>\n",
       "      <td>0.000000</td>\n",
       "      <td>0.000000</td>\n",
       "      <td>0.000000</td>\n",
       "      <td>0.000000</td>\n",
       "      <td>0.000000</td>\n",
       "      <td>0.000000</td>\n",
       "      <td>0.000000</td>\n",
       "      <td>0.000000</td>\n",
       "      <td>0.000000</td>\n",
       "    </tr>\n",
       "    <tr>\n",
       "      <th>25%</th>\n",
       "      <td>0.460739</td>\n",
       "      <td>0.372276</td>\n",
       "      <td>0.181818</td>\n",
       "      <td>0.573010</td>\n",
       "      <td>0.000000</td>\n",
       "      <td>0.016314</td>\n",
       "      <td>0.070713</td>\n",
       "      <td>0.000000</td>\n",
       "      <td>0.079300</td>\n",
       "      <td>0.250236</td>\n",
       "      <td>0.307435</td>\n",
       "    </tr>\n",
       "    <tr>\n",
       "      <th>50%</th>\n",
       "      <td>0.587760</td>\n",
       "      <td>0.555406</td>\n",
       "      <td>0.454545</td>\n",
       "      <td>0.683188</td>\n",
       "      <td>1.000000</td>\n",
       "      <td>0.034019</td>\n",
       "      <td>0.272905</td>\n",
       "      <td>0.000035</td>\n",
       "      <td>0.098944</td>\n",
       "      <td>0.464980</td>\n",
       "      <td>0.438406</td>\n",
       "    </tr>\n",
       "    <tr>\n",
       "      <th>75%</th>\n",
       "      <td>0.696305</td>\n",
       "      <td>0.724009</td>\n",
       "      <td>0.727273</td>\n",
       "      <td>0.768584</td>\n",
       "      <td>1.000000</td>\n",
       "      <td>0.079765</td>\n",
       "      <td>0.639725</td>\n",
       "      <td>0.004787</td>\n",
       "      <td>0.178702</td>\n",
       "      <td>0.678673</td>\n",
       "      <td>0.541713</td>\n",
       "    </tr>\n",
       "    <tr>\n",
       "      <th>max</th>\n",
       "      <td>1.000000</td>\n",
       "      <td>1.000000</td>\n",
       "      <td>1.000000</td>\n",
       "      <td>1.000000</td>\n",
       "      <td>1.000000</td>\n",
       "      <td>1.000000</td>\n",
       "      <td>1.000000</td>\n",
       "      <td>1.000000</td>\n",
       "      <td>1.000000</td>\n",
       "      <td>1.000000</td>\n",
       "      <td>1.000000</td>\n",
       "    </tr>\n",
       "  </tbody>\n",
       "</table>\n",
       "</div>"
      ],
      "text/plain": [
       "       danceability       energy          key     loudness         mode  \\\n",
       "count   1420.000000  1420.000000  1420.000000  1420.000000  1420.000000   \n",
       "mean       0.575795     0.542920     0.468118     0.660166     0.706338   \n",
       "std        0.170379     0.230530     0.324001     0.146406     0.455599   \n",
       "min        0.000000     0.000000     0.000000     0.000000     0.000000   \n",
       "25%        0.460739     0.372276     0.181818     0.573010     0.000000   \n",
       "50%        0.587760     0.555406     0.454545     0.683188     1.000000   \n",
       "75%        0.696305     0.724009     0.727273     0.768584     1.000000   \n",
       "max        1.000000     1.000000     1.000000     1.000000     1.000000   \n",
       "\n",
       "       speechiness  acousticness  instrumentalness     liveness      valence  \\\n",
       "count  1420.000000   1420.000000       1420.000000  1420.000000  1420.000000   \n",
       "mean      0.077575      0.367903          0.059701     0.157985     0.472381   \n",
       "std       0.122315      0.318899          0.182815     0.145871     0.254133   \n",
       "min       0.000000      0.000000          0.000000     0.000000     0.000000   \n",
       "25%       0.016314      0.070713          0.000000     0.079300     0.250236   \n",
       "50%       0.034019      0.272905          0.000035     0.098944     0.464980   \n",
       "75%       0.079765      0.639725          0.004787     0.178702     0.678673   \n",
       "max       1.000000      1.000000          1.000000     1.000000     1.000000   \n",
       "\n",
       "             tempo  \n",
       "count  1420.000000  \n",
       "mean      0.439290  \n",
       "std       0.172953  \n",
       "min       0.000000  \n",
       "25%       0.307435  \n",
       "50%       0.438406  \n",
       "75%       0.541713  \n",
       "max       1.000000  "
      ]
     },
     "execution_count": 11,
     "metadata": {},
     "output_type": "execute_result"
    }
   ],
   "source": [
    "features_df = track_df[['danceability','energy','key','loudness','mode','speechiness','acousticness','instrumentalness','liveness','valence','tempo']]\n",
    "\n",
    "# scaling data\n",
    "scaler = MinMaxScaler()\n",
    "\n",
    "scaled_df = scaler.fit_transform(features_df)\n",
    "features_df = pd.DataFrame(scaled_df, columns=features_df.columns)\n",
    "features_df.describe()\n",
    "\n",
    "#data is scaled but not centered."
   ]
  },
  {
   "cell_type": "code",
   "execution_count": 12,
   "metadata": {},
   "outputs": [
    {
     "data": {
      "text/html": [
       "<div>\n",
       "<style scoped>\n",
       "    .dataframe tbody tr th:only-of-type {\n",
       "        vertical-align: middle;\n",
       "    }\n",
       "\n",
       "    .dataframe tbody tr th {\n",
       "        vertical-align: top;\n",
       "    }\n",
       "\n",
       "    .dataframe thead th {\n",
       "        text-align: right;\n",
       "    }\n",
       "</style>\n",
       "<table border=\"1\" class=\"dataframe\">\n",
       "  <thead>\n",
       "    <tr style=\"text-align: right;\">\n",
       "      <th></th>\n",
       "      <th>danceability</th>\n",
       "      <th>energy</th>\n",
       "      <th>key</th>\n",
       "      <th>loudness</th>\n",
       "      <th>mode</th>\n",
       "      <th>speechiness</th>\n",
       "      <th>acousticness</th>\n",
       "      <th>instrumentalness</th>\n",
       "      <th>liveness</th>\n",
       "      <th>valence</th>\n",
       "      <th>tempo</th>\n",
       "    </tr>\n",
       "  </thead>\n",
       "  <tbody>\n",
       "    <tr>\n",
       "      <th>count</th>\n",
       "      <td>1.420000e+03</td>\n",
       "      <td>1.420000e+03</td>\n",
       "      <td>1.420000e+03</td>\n",
       "      <td>1.420000e+03</td>\n",
       "      <td>1.420000e+03</td>\n",
       "      <td>1.420000e+03</td>\n",
       "      <td>1.420000e+03</td>\n",
       "      <td>1.420000e+03</td>\n",
       "      <td>1.420000e+03</td>\n",
       "      <td>1.420000e+03</td>\n",
       "      <td>1.420000e+03</td>\n",
       "    </tr>\n",
       "    <tr>\n",
       "      <th>mean</th>\n",
       "      <td>3.252484e-17</td>\n",
       "      <td>-2.501911e-17</td>\n",
       "      <td>-2.001529e-17</td>\n",
       "      <td>1.751338e-17</td>\n",
       "      <td>7.380638e-17</td>\n",
       "      <td>-1.501147e-17</td>\n",
       "      <td>5.003822e-17</td>\n",
       "      <td>9.382166e-18</td>\n",
       "      <td>-5.003822e-18</td>\n",
       "      <td>5.504204e-17</td>\n",
       "      <td>-5.128918e-17</td>\n",
       "    </tr>\n",
       "    <tr>\n",
       "      <th>std</th>\n",
       "      <td>1.703792e-01</td>\n",
       "      <td>2.305297e-01</td>\n",
       "      <td>3.240007e-01</td>\n",
       "      <td>1.464064e-01</td>\n",
       "      <td>4.555994e-01</td>\n",
       "      <td>1.223153e-01</td>\n",
       "      <td>3.188993e-01</td>\n",
       "      <td>1.828151e-01</td>\n",
       "      <td>1.458711e-01</td>\n",
       "      <td>2.541327e-01</td>\n",
       "      <td>1.729528e-01</td>\n",
       "    </tr>\n",
       "    <tr>\n",
       "      <th>min</th>\n",
       "      <td>-5.757953e-01</td>\n",
       "      <td>-5.429196e-01</td>\n",
       "      <td>-4.681178e-01</td>\n",
       "      <td>-6.601661e-01</td>\n",
       "      <td>-7.063380e-01</td>\n",
       "      <td>-7.757511e-02</td>\n",
       "      <td>-3.679032e-01</td>\n",
       "      <td>-5.970078e-02</td>\n",
       "      <td>-1.579845e-01</td>\n",
       "      <td>-4.723813e-01</td>\n",
       "      <td>-4.392898e-01</td>\n",
       "    </tr>\n",
       "    <tr>\n",
       "      <th>25%</th>\n",
       "      <td>-1.150563e-01</td>\n",
       "      <td>-1.706432e-01</td>\n",
       "      <td>-2.862996e-01</td>\n",
       "      <td>-8.715588e-02</td>\n",
       "      <td>-7.063380e-01</td>\n",
       "      <td>-6.126069e-02</td>\n",
       "      <td>-2.971902e-01</td>\n",
       "      <td>-5.970078e-02</td>\n",
       "      <td>-7.868401e-02</td>\n",
       "      <td>-2.221451e-01</td>\n",
       "      <td>-1.318548e-01</td>\n",
       "    </tr>\n",
       "    <tr>\n",
       "      <th>50%</th>\n",
       "      <td>1.196451e-02</td>\n",
       "      <td>1.248608e-02</td>\n",
       "      <td>-1.357234e-02</td>\n",
       "      <td>2.302167e-02</td>\n",
       "      <td>2.936620e-01</td>\n",
       "      <td>-4.355583e-02</td>\n",
       "      <td>-9.499833e-02</td>\n",
       "      <td>-5.966548e-02</td>\n",
       "      <td>-5.904077e-02</td>\n",
       "      <td>-7.401798e-03</td>\n",
       "      <td>-8.838294e-04</td>\n",
       "    </tr>\n",
       "    <tr>\n",
       "      <th>75%</th>\n",
       "      <td>1.205095e-01</td>\n",
       "      <td>1.810895e-01</td>\n",
       "      <td>2.591549e-01</td>\n",
       "      <td>1.084176e-01</td>\n",
       "      <td>2.936620e-01</td>\n",
       "      <td>2.189444e-03</td>\n",
       "      <td>2.718222e-01</td>\n",
       "      <td>-5.491416e-02</td>\n",
       "      <td>2.071780e-02</td>\n",
       "      <td>2.062914e-01</td>\n",
       "      <td>1.024231e-01</td>\n",
       "    </tr>\n",
       "    <tr>\n",
       "      <th>max</th>\n",
       "      <td>4.242047e-01</td>\n",
       "      <td>4.570804e-01</td>\n",
       "      <td>5.318822e-01</td>\n",
       "      <td>3.398339e-01</td>\n",
       "      <td>2.936620e-01</td>\n",
       "      <td>9.224249e-01</td>\n",
       "      <td>6.320968e-01</td>\n",
       "      <td>9.402992e-01</td>\n",
       "      <td>8.420155e-01</td>\n",
       "      <td>5.276187e-01</td>\n",
       "      <td>5.607102e-01</td>\n",
       "    </tr>\n",
       "  </tbody>\n",
       "</table>\n",
       "</div>"
      ],
      "text/plain": [
       "       danceability        energy           key      loudness          mode  \\\n",
       "count  1.420000e+03  1.420000e+03  1.420000e+03  1.420000e+03  1.420000e+03   \n",
       "mean   3.252484e-17 -2.501911e-17 -2.001529e-17  1.751338e-17  7.380638e-17   \n",
       "std    1.703792e-01  2.305297e-01  3.240007e-01  1.464064e-01  4.555994e-01   \n",
       "min   -5.757953e-01 -5.429196e-01 -4.681178e-01 -6.601661e-01 -7.063380e-01   \n",
       "25%   -1.150563e-01 -1.706432e-01 -2.862996e-01 -8.715588e-02 -7.063380e-01   \n",
       "50%    1.196451e-02  1.248608e-02 -1.357234e-02  2.302167e-02  2.936620e-01   \n",
       "75%    1.205095e-01  1.810895e-01  2.591549e-01  1.084176e-01  2.936620e-01   \n",
       "max    4.242047e-01  4.570804e-01  5.318822e-01  3.398339e-01  2.936620e-01   \n",
       "\n",
       "        speechiness  acousticness  instrumentalness      liveness  \\\n",
       "count  1.420000e+03  1.420000e+03      1.420000e+03  1.420000e+03   \n",
       "mean  -1.501147e-17  5.003822e-17      9.382166e-18 -5.003822e-18   \n",
       "std    1.223153e-01  3.188993e-01      1.828151e-01  1.458711e-01   \n",
       "min   -7.757511e-02 -3.679032e-01     -5.970078e-02 -1.579845e-01   \n",
       "25%   -6.126069e-02 -2.971902e-01     -5.970078e-02 -7.868401e-02   \n",
       "50%   -4.355583e-02 -9.499833e-02     -5.966548e-02 -5.904077e-02   \n",
       "75%    2.189444e-03  2.718222e-01     -5.491416e-02  2.071780e-02   \n",
       "max    9.224249e-01  6.320968e-01      9.402992e-01  8.420155e-01   \n",
       "\n",
       "            valence         tempo  \n",
       "count  1.420000e+03  1.420000e+03  \n",
       "mean   5.504204e-17 -5.128918e-17  \n",
       "std    2.541327e-01  1.729528e-01  \n",
       "min   -4.723813e-01 -4.392898e-01  \n",
       "25%   -2.221451e-01 -1.318548e-01  \n",
       "50%   -7.401798e-03 -8.838294e-04  \n",
       "75%    2.062914e-01  1.024231e-01  \n",
       "max    5.276187e-01  5.607102e-01  "
      ]
     },
     "execution_count": 12,
     "metadata": {},
     "output_type": "execute_result"
    }
   ],
   "source": [
    "#centering the dataset\n",
    "center = lambda x: x - x.mean()\n",
    "features_df = features_df.apply(center)\n",
    "features_df.describe()\n"
   ]
  },
  {
   "cell_type": "code",
   "execution_count": 13,
   "metadata": {},
   "outputs": [
    {
     "name": "stdout",
     "output_type": "stream",
     "text": [
      "                  danceability    energy       key  loudness      mode  \\\n",
      "danceability          1.000000  0.328006  0.024707  0.292807 -0.141857   \n",
      "energy                0.328006  1.000000  0.009986  0.785707 -0.135593   \n",
      "key                   0.024707  0.009986  1.000000 -0.012389 -0.105786   \n",
      "loudness              0.292807  0.785707 -0.012389  1.000000 -0.097724   \n",
      "mode                 -0.141857 -0.135593 -0.105786 -0.097724  1.000000   \n",
      "speechiness           0.226337  0.142866  0.038207  0.161497 -0.130627   \n",
      "acousticness         -0.373065 -0.732727 -0.017916 -0.601154  0.105797   \n",
      "instrumentalness     -0.089933 -0.106008 -0.002945 -0.251905 -0.009051   \n",
      "liveness             -0.014417  0.165957  0.013753  0.135028 -0.054065   \n",
      "valence               0.460216  0.471141  0.006531  0.294851 -0.044409   \n",
      "tempo                -0.058673  0.165064  0.020305  0.110527 -0.001124   \n",
      "\n",
      "                  speechiness  acousticness  instrumentalness  liveness  \\\n",
      "danceability         0.226337     -0.373065         -0.089933 -0.014417   \n",
      "energy               0.142866     -0.732727         -0.106008  0.165957   \n",
      "key                  0.038207     -0.017916         -0.002945  0.013753   \n",
      "loudness             0.161497     -0.601154         -0.251905  0.135028   \n",
      "mode                -0.130627      0.105797         -0.009051 -0.054065   \n",
      "speechiness          1.000000     -0.194626         -0.089579  0.121521   \n",
      "acousticness        -0.194626      1.000000          0.168350 -0.090509   \n",
      "instrumentalness    -0.089579      0.168350          1.000000 -0.023858   \n",
      "liveness             0.121521     -0.090509         -0.023858  1.000000   \n",
      "valence              0.073100     -0.335640         -0.126667  0.035858   \n",
      "tempo                0.127960     -0.137358          0.002791  0.020092   \n",
      "\n",
      "                   valence     tempo  \n",
      "danceability      0.460216 -0.058673  \n",
      "energy            0.471141  0.165064  \n",
      "key               0.006531  0.020305  \n",
      "loudness          0.294851  0.110527  \n",
      "mode             -0.044409 -0.001124  \n",
      "speechiness       0.073100  0.127960  \n",
      "acousticness     -0.335640 -0.137358  \n",
      "instrumentalness -0.126667  0.002791  \n",
      "liveness          0.035858  0.020092  \n",
      "valence           1.000000  0.056046  \n",
      "tempo             0.056046  1.000000  \n"
     ]
    }
   ],
   "source": [
    "# finding correlation between features\n",
    "corr_matrix = features_df.corr()\n",
    "print (corr_matrix)"
   ]
  },
  {
   "cell_type": "code",
   "execution_count": 14,
   "metadata": {},
   "outputs": [
    {
     "data": {
      "image/png": "[encoded data removed]",
      "text/plain": [
       "<Figure size 1000x800 with 2 Axes>"
      ]
     },
     "metadata": {},
     "output_type": "display_data"
    }
   ],
   "source": [
    "#For better visualizaion, using a heatmap\n",
    "%matplotlib inline\n",
    "plt.figure(figsize=(10, 8))\n",
    "sns.heatmap(abs(corr_matrix), annot=True, cmap='Blues', fmt=\".2f\")\n",
    "plt.title('Correlation Heatmap')\n",
    "plt.show()"
   ]
  },
  {
   "cell_type": "markdown",
   "metadata": {},
   "source": [
    "While `Loudness` and `Energy` have an almost 80% correlation, we have to keep in mind that most energetic songs tend to have high in both values but not all songs have high values in both. So we keep both of them."
   ]
  },
  {
   "cell_type": "markdown",
   "metadata": {},
   "source": [
    "## Choosing an appropriate model with K fold Cross Validation"
   ]
  },
  {
   "cell_type": "markdown",
   "metadata": {},
   "source": [
    "We know the features are in `features_df` while the target classes are in `track_df['y]`. First let us perform a check with two models, kNN and Random Forest to check the performance of the model with \n",
    "1. all the features \n",
    "2. `Loudness` droppped"
   ]
  },
  {
   "cell_type": "markdown",
   "metadata": {},
   "source": [
    "## Selecting a Model using K Fold Cross Validation (with all the features)"
   ]
  },
  {
   "cell_type": "markdown",
   "metadata": {},
   "source": [
    "### kNN"
   ]
  },
  {
   "cell_type": "code",
   "execution_count": 15,
   "metadata": {},
   "outputs": [
    {
     "name": "stdout",
     "output_type": "stream",
     "text": [
      "knn with 10 nn:  0.8072265770810003\n",
      "knn with 20 nn:  0.8163419186263531\n",
      "knn with 100 nn:  0.795879059350504\n"
     ]
    }
   ],
   "source": [
    "#knn\n",
    "from sklearn.model_selection import cross_val_score\n",
    "from sklearn.neighbors import KNeighborsClassifier\n",
    "import statistics as stat\n",
    "\n",
    "knn = KNeighborsClassifier(n_neighbors=10)\n",
    "print(\"knn with 10 nn: \",stat.mean(cross_val_score(knn, features_df,track_df['energetic'], cv = 15)))\n",
    "\n",
    "\n",
    "\n",
    "knn = KNeighborsClassifier(n_neighbors=20)\n",
    "print(\"knn with 20 nn: \",stat.mean(cross_val_score(knn, features_df,track_df['energetic'], cv = 15)))\n",
    "\n",
    "\n",
    "knn = KNeighborsClassifier(n_neighbors=100)\n",
    "print(\"knn with 100 nn: \",stat.mean(cross_val_score(knn, features_df,track_df['energetic'], cv = 15)))"
   ]
  },
  {
   "cell_type": "markdown",
   "metadata": {},
   "source": [
    "We are also noting that the model performs similary for 10,20 and 100 nearest neighbors. The max performance is achieved at n = 20. Hence we are better off choosing _20 nearest neighbors_."
   ]
  },
  {
   "cell_type": "markdown",
   "metadata": {},
   "source": [
    "### Random Forests"
   ]
  },
  {
   "cell_type": "code",
   "execution_count": 16,
   "metadata": {},
   "outputs": [
    {
     "name": "stdout",
     "output_type": "stream",
     "text": [
      "rf with 100 trees:  0.8360507652108996\n",
      "rf with 200 trees:  0.8381784247853676\n",
      "rf with 500 trees:  0.8381858902575587\n"
     ]
    }
   ],
   "source": [
    "#random forest\n",
    "from sklearn.ensemble import RandomForestClassifier\n",
    "\n",
    "rf = RandomForestClassifier(n_estimators=100)\n",
    "print(\"rf with 100 trees: \",stat.mean(cross_val_score(rf, features_df,track_df['energetic'], cv = 15)))\n",
    "\n",
    "rf = RandomForestClassifier(n_estimators=200)\n",
    "print(\"rf with 200 trees: \",stat.mean(cross_val_score(rf, features_df,track_df['energetic'], cv = 15)))\n",
    "\n",
    "rf = RandomForestClassifier(n_estimators=500)\n",
    "print(\"rf with 500 trees: \",stat.mean(cross_val_score(rf, features_df,track_df['energetic'], cv = 15)))"
   ]
  },
  {
   "cell_type": "markdown",
   "metadata": {},
   "source": [
    "Again, we are better off using n = 200 trees since the model plateaus with increase in number of trees. 200 trees (which is the default number of trees in the model) is sufficient to use as a parameter for our model."
   ]
  },
  {
   "cell_type": "markdown",
   "metadata": {},
   "source": [
    "## Cross Validating SVM and Logistic Regression"
   ]
  },
  {
   "cell_type": "code",
   "execution_count": 17,
   "metadata": {},
   "outputs": [],
   "source": [
    "y = track_df['energetic'].copy()"
   ]
  },
  {
   "cell_type": "markdown",
   "metadata": {},
   "source": [
    "### SVM"
   ]
  },
  {
   "cell_type": "markdown",
   "metadata": {},
   "source": [
    "Doing a train_test_split to use GridSearch and find optimized parameters C and Gamma for Radial Kernel SVM."
   ]
  },
  {
   "cell_type": "code",
   "execution_count": 18,
   "metadata": {},
   "outputs": [
    {
     "name": "stdout",
     "output_type": "stream",
     "text": [
      "Fitting 5 folds for each of 16 candidates, totalling 80 fits\n",
      "[CV] END .....................................C=0.1, gamma=1; total time=   0.0s\n",
      "[CV] END .....................................C=0.1, gamma=1; total time=   0.0s\n",
      "[CV] END .....................................C=0.1, gamma=1; total time=   0.0s\n",
      "[CV] END .....................................C=0.1, gamma=1; total time=   0.0s\n",
      "[CV] END .....................................C=0.1, gamma=1; total time=   0.0s\n",
      "[CV] END ...................................C=0.1, gamma=0.1; total time=   0.0s\n",
      "[CV] END ...................................C=0.1, gamma=0.1; total time=   0.0s\n",
      "[CV] END ...................................C=0.1, gamma=0.1; total time=   0.0s\n",
      "[CV] END ...................................C=0.1, gamma=0.1; total time=   0.0s\n",
      "[CV] END ...................................C=0.1, gamma=0.1; total time=   0.0s\n",
      "[CV] END ..................................C=0.1, gamma=0.01; total time=   0.0s\n",
      "[CV] END ..................................C=0.1, gamma=0.01; total time=   0.0s\n",
      "[CV] END ..................................C=0.1, gamma=0.01; total time=   0.0s\n",
      "[CV] END ..................................C=0.1, gamma=0.01; total time=   0.0s\n",
      "[CV] END ..................................C=0.1, gamma=0.01; total time=   0.0s\n",
      "[CV] END .................................C=0.1, gamma=0.001; total time=   0.0s\n",
      "[CV] END .................................C=0.1, gamma=0.001; total time=   0.0s\n",
      "[CV] END .................................C=0.1, gamma=0.001; total time=   0.0s\n",
      "[CV] END .................................C=0.1, gamma=0.001; total time=   0.0s\n",
      "[CV] END .................................C=0.1, gamma=0.001; total time=   0.0s\n",
      "[CV] END .......................................C=1, gamma=1; total time=   0.0s\n",
      "[CV] END .......................................C=1, gamma=1; total time=   0.0s\n",
      "[CV] END .......................................C=1, gamma=1; total time=   0.0s\n",
      "[CV] END .......................................C=1, gamma=1; total time=   0.0s\n",
      "[CV] END .......................................C=1, gamma=1; total time=   0.0s\n",
      "[CV] END .....................................C=1, gamma=0.1; total time=   0.0s\n",
      "[CV] END .....................................C=1, gamma=0.1; total time=   0.0s\n",
      "[CV] END .....................................C=1, gamma=0.1; total time=   0.0s\n",
      "[CV] END .....................................C=1, gamma=0.1; total time=   0.0s\n",
      "[CV] END .....................................C=1, gamma=0.1; total time=   0.0s\n",
      "[CV] END ....................................C=1, gamma=0.01; total time=   0.0s\n",
      "[CV] END ....................................C=1, gamma=0.01; total time=   0.0s\n",
      "[CV] END ....................................C=1, gamma=0.01; total time=   0.0s\n",
      "[CV] END ....................................C=1, gamma=0.01; total time=   0.0s\n",
      "[CV] END ....................................C=1, gamma=0.01; total time=   0.0s\n",
      "[CV] END ...................................C=1, gamma=0.001; total time=   0.0s\n",
      "[CV] END ...................................C=1, gamma=0.001; total time=   0.0s\n",
      "[CV] END ...................................C=1, gamma=0.001; total time=   0.0s\n",
      "[CV] END ...................................C=1, gamma=0.001; total time=   0.0s\n",
      "[CV] END ...................................C=1, gamma=0.001; total time=   0.0s\n",
      "[CV] END ......................................C=10, gamma=1; total time=   0.0s\n",
      "[CV] END ......................................C=10, gamma=1; total time=   0.0s\n",
      "[CV] END ......................................C=10, gamma=1; total time=   0.0s\n",
      "[CV] END ......................................C=10, gamma=1; total time=   0.0s\n",
      "[CV] END ......................................C=10, gamma=1; total time=   0.0s\n",
      "[CV] END ....................................C=10, gamma=0.1; total time=   0.0s\n",
      "[CV] END ....................................C=10, gamma=0.1; total time=   0.0s\n",
      "[CV] END ....................................C=10, gamma=0.1; total time=   0.0s\n",
      "[CV] END ....................................C=10, gamma=0.1; total time=   0.0s\n",
      "[CV] END ....................................C=10, gamma=0.1; total time=   0.0s\n",
      "[CV] END ...................................C=10, gamma=0.01; total time=   0.0s\n",
      "[CV] END ...................................C=10, gamma=0.01; total time=   0.0s\n",
      "[CV] END ...................................C=10, gamma=0.01; total time=   0.0s\n",
      "[CV] END ...................................C=10, gamma=0.01; total time=   0.0s\n",
      "[CV] END ...................................C=10, gamma=0.01; total time=   0.0s\n",
      "[CV] END ..................................C=10, gamma=0.001; total time=   0.0s\n",
      "[CV] END ..................................C=10, gamma=0.001; total time=   0.0s\n",
      "[CV] END ..................................C=10, gamma=0.001; total time=   0.0s\n",
      "[CV] END ..................................C=10, gamma=0.001; total time=   0.0s\n",
      "[CV] END ..................................C=10, gamma=0.001; total time=   0.0s\n",
      "[CV] END .....................................C=100, gamma=1; total time=   0.0s\n",
      "[CV] END .....................................C=100, gamma=1; total time=   0.0s\n",
      "[CV] END .....................................C=100, gamma=1; total time=   0.0s\n",
      "[CV] END .....................................C=100, gamma=1; total time=   0.0s\n",
      "[CV] END .....................................C=100, gamma=1; total time=   0.0s\n",
      "[CV] END ...................................C=100, gamma=0.1; total time=   0.0s\n",
      "[CV] END ...................................C=100, gamma=0.1; total time=   0.0s\n",
      "[CV] END ...................................C=100, gamma=0.1; total time=   0.0s\n",
      "[CV] END ...................................C=100, gamma=0.1; total time=   0.0s\n",
      "[CV] END ...................................C=100, gamma=0.1; total time=   0.0s\n",
      "[CV] END ..................................C=100, gamma=0.01; total time=   0.0s\n",
      "[CV] END ..................................C=100, gamma=0.01; total time=   0.0s\n",
      "[CV] END ..................................C=100, gamma=0.01; total time=   0.0s\n",
      "[CV] END ..................................C=100, gamma=0.01; total time=   0.0s\n",
      "[CV] END ..................................C=100, gamma=0.01; total time=   0.0s\n",
      "[CV] END .................................C=100, gamma=0.001; total time=   0.0s\n",
      "[CV] END .................................C=100, gamma=0.001; total time=   0.0s\n",
      "[CV] END .................................C=100, gamma=0.001; total time=   0.0s\n",
      "[CV] END .................................C=100, gamma=0.001; total time=   0.0s\n",
      "[CV] END .................................C=100, gamma=0.001; total time=   0.0s\n"
     ]
    }
   ],
   "source": [
    "from sklearn import svm\n",
    "from sklearn.model_selection import GridSearchCV, train_test_split\n",
    "\n",
    "X_train, X_test, y_train,y_test = train_test_split(features_df, y, test_size=0.2, random_state=42)\n",
    "# Define the parameter grid \n",
    "param_grid = {'C': [0.1, 1, 10, 100], 'gamma': [1, 0.1, 0.01, 0.001]} \n",
    "\n",
    "# Create a grid search object \n",
    "grid = GridSearchCV(svm.SVC(), param_grid, refit=True, verbose=2) \n",
    "\n",
    "# Fit the grid search object to the training data \n",
    "grid.fit(X_train, y_train) \n",
    "\n",
    "# Get the best parameters \n",
    "best_params_ = grid.best_params_\n"
   ]
  },
  {
   "cell_type": "code",
   "execution_count": 19,
   "metadata": {},
   "outputs": [
    {
     "data": {
      "text/plain": [
       "0.8375065322881673"
      ]
     },
     "execution_count": 19,
     "metadata": {},
     "output_type": "execute_result"
    }
   ],
   "source": [
    "#SVM \n",
    "#using radial kernel\n",
    "clf_svm = svm.SVC(kernel='rbf', C=best_params_['C'], gamma=best_params_['gamma'],random_state=42)\n",
    "stat.mean(cross_val_score(clf_svm, features_df,y, cv = 15))"
   ]
  },
  {
   "cell_type": "markdown",
   "metadata": {},
   "source": [
    "### Logistic Regression"
   ]
  },
  {
   "cell_type": "code",
   "execution_count": 20,
   "metadata": {},
   "outputs": [
    {
     "name": "stdout",
     "output_type": "stream",
     "text": [
      "lr: 0.8339828294139604\n"
     ]
    }
   ],
   "source": [
    "# logistic regression\n",
    "from sklearn.linear_model import LogisticRegression\n",
    "\n",
    "lr = LogisticRegression()\n",
    "print(\"lr:\",stat.mean(cross_val_score(lr, features_df,track_df['energetic'], cv = 15)))"
   ]
  },
  {
   "cell_type": "markdown",
   "metadata": {},
   "source": [
    "* All models are performing similarly. We will use SVM for classification since it is faster than Randmom forests. However, we might have to balance our dataset since most of our dataset is non energetic."
   ]
  },
  {
   "cell_type": "code",
   "execution_count": 21,
   "metadata": {},
   "outputs": [],
   "source": [
    "#before balancing using our prev clf_svm\n",
    "clf_svm.fit(X_train,y_train)\n",
    "y_pred = clf_svm.predict(X_test)"
   ]
  },
  {
   "cell_type": "code",
   "execution_count": 22,
   "metadata": {},
   "outputs": [],
   "source": [
    "from sklearn.metrics import confusion_matrix, classification_report\n",
    "conf_matrix = confusion_matrix(y_test, y_pred)\n"
   ]
  },
  {
   "cell_type": "code",
   "execution_count": 23,
   "metadata": {},
   "outputs": [
    {
     "data": {
      "text/plain": [
       "<sklearn.metrics._plot.confusion_matrix.ConfusionMatrixDisplay at 0x17e492e90>"
      ]
     },
     "execution_count": 23,
     "metadata": {},
     "output_type": "execute_result"
    },
    {
     "data": {
      "image/png": "[encoded data removed]",
      "text/plain": [
       "<Figure size 640x480 with 2 Axes>"
      ]
     },
     "metadata": {},
     "output_type": "display_data"
    }
   ],
   "source": [
    "from sklearn.metrics import ConfusionMatrixDisplay\n",
    "plt = ConfusionMatrixDisplay(confusion_matrix = conf_matrix, display_labels=['not energetic','energetic'])\n",
    "plt.plot()"
   ]
  },
  {
   "cell_type": "code",
   "execution_count": 24,
   "metadata": {},
   "outputs": [
    {
     "data": {
      "text/html": [
       "<div>\n",
       "<style scoped>\n",
       "    .dataframe tbody tr th:only-of-type {\n",
       "        vertical-align: middle;\n",
       "    }\n",
       "\n",
       "    .dataframe tbody tr th {\n",
       "        vertical-align: top;\n",
       "    }\n",
       "\n",
       "    .dataframe thead th {\n",
       "        text-align: right;\n",
       "    }\n",
       "</style>\n",
       "<table border=\"1\" class=\"dataframe\">\n",
       "  <thead>\n",
       "    <tr style=\"text-align: right;\">\n",
       "      <th></th>\n",
       "      <th>0</th>\n",
       "      <th>1</th>\n",
       "      <th>accuracy</th>\n",
       "      <th>macro avg</th>\n",
       "      <th>weighted avg</th>\n",
       "    </tr>\n",
       "  </thead>\n",
       "  <tbody>\n",
       "    <tr>\n",
       "      <th>precision</th>\n",
       "      <td>0.875</td>\n",
       "      <td>0.702381</td>\n",
       "      <td>0.823944</td>\n",
       "      <td>0.78869</td>\n",
       "      <td>0.823944</td>\n",
       "    </tr>\n",
       "    <tr>\n",
       "      <th>recall</th>\n",
       "      <td>0.875</td>\n",
       "      <td>0.702381</td>\n",
       "      <td>0.823944</td>\n",
       "      <td>0.78869</td>\n",
       "      <td>0.823944</td>\n",
       "    </tr>\n",
       "    <tr>\n",
       "      <th>f1-score</th>\n",
       "      <td>0.875</td>\n",
       "      <td>0.702381</td>\n",
       "      <td>0.823944</td>\n",
       "      <td>0.78869</td>\n",
       "      <td>0.823944</td>\n",
       "    </tr>\n",
       "    <tr>\n",
       "      <th>support</th>\n",
       "      <td>200.000</td>\n",
       "      <td>84.000000</td>\n",
       "      <td>0.823944</td>\n",
       "      <td>284.00000</td>\n",
       "      <td>284.000000</td>\n",
       "    </tr>\n",
       "  </tbody>\n",
       "</table>\n",
       "</div>"
      ],
      "text/plain": [
       "                 0          1  accuracy  macro avg  weighted avg\n",
       "precision    0.875   0.702381  0.823944    0.78869      0.823944\n",
       "recall       0.875   0.702381  0.823944    0.78869      0.823944\n",
       "f1-score     0.875   0.702381  0.823944    0.78869      0.823944\n",
       "support    200.000  84.000000  0.823944  284.00000    284.000000"
      ]
     },
     "execution_count": 24,
     "metadata": {},
     "output_type": "execute_result"
    }
   ],
   "source": [
    "classification_rep = classification_report(y_test, y_pred, output_dict=True)\n",
    "pd.DataFrame(classification_rep)"
   ]
  },
  {
   "cell_type": "markdown",
   "metadata": {},
   "source": [
    "As the sample data is not balanced, we will use SMOTE technique to balance it out. This can increase the F1_score by a bit for Energetic."
   ]
  },
  {
   "cell_type": "code",
   "execution_count": 25,
   "metadata": {},
   "outputs": [],
   "source": [
    "from imblearn.over_sampling import SMOTE\n",
    "smote = SMOTE(random_state=42)\n",
    "X_train_resampled, y_train_resampled = smote.fit_resample(X_train, y_train)"
   ]
  },
  {
   "cell_type": "code",
   "execution_count": 26,
   "metadata": {},
   "outputs": [
    {
     "name": "stdout",
     "output_type": "stream",
     "text": [
      "energetic\n",
      "0    830\n",
      "1    306\n",
      "Name: count, dtype: int64\n",
      "energetic\n",
      "0    830\n",
      "1    830\n",
      "Name: count, dtype: int64\n"
     ]
    }
   ],
   "source": [
    "print(y_train.value_counts())\n",
    "print(y_train_resampled.value_counts())"
   ]
  },
  {
   "cell_type": "markdown",
   "metadata": {},
   "source": [
    "We can see that the dataset has been balanced."
   ]
  },
  {
   "cell_type": "code",
   "execution_count": 27,
   "metadata": {},
   "outputs": [
    {
     "data": {
      "text/html": [
       "<style>#sk-container-id-1 {color: black;}#sk-container-id-1 pre{padding: 0;}#sk-container-id-1 div.sk-toggleable {background-color: white;}#sk-container-id-1 label.sk-toggleable__label {cursor: pointer;display: block;width: 100%;margin-bottom: 0;padding: 0.3em;box-sizing: border-box;text-align: center;}#sk-container-id-1 label.sk-toggleable__label-arrow:before {content: \"▸\";float: left;margin-right: 0.25em;color: #696969;}#sk-container-id-1 label.sk-toggleable__label-arrow:hover:before {color: black;}#sk-container-id-1 div.sk-estimator:hover label.sk-toggleable__label-arrow:before {color: black;}#sk-container-id-1 div.sk-toggleable__content {max-height: 0;max-width: 0;overflow: hidden;text-align: left;background-color: #f0f8ff;}#sk-container-id-1 div.sk-toggleable__content pre {margin: 0.2em;color: black;border-radius: 0.25em;background-color: #f0f8ff;}#sk-container-id-1 input.sk-toggleable__control:checked~div.sk-toggleable__content {max-height: 200px;max-width: 100%;overflow: auto;}#sk-container-id-1 input.sk-toggleable__control:checked~label.sk-toggleable__label-arrow:before {content: \"▾\";}#sk-container-id-1 div.sk-estimator input.sk-toggleable__control:checked~label.sk-toggleable__label {background-color: #d4ebff;}#sk-container-id-1 div.sk-label input.sk-toggleable__control:checked~label.sk-toggleable__label {background-color: #d4ebff;}#sk-container-id-1 input.sk-hidden--visually {border: 0;clip: rect(1px 1px 1px 1px);clip: rect(1px, 1px, 1px, 1px);height: 1px;margin: -1px;overflow: hidden;padding: 0;position: absolute;width: 1px;}#sk-container-id-1 div.sk-estimator {font-family: monospace;background-color: #f0f8ff;border: 1px dotted black;border-radius: 0.25em;box-sizing: border-box;margin-bottom: 0.5em;}#sk-container-id-1 div.sk-estimator:hover {background-color: #d4ebff;}#sk-container-id-1 div.sk-parallel-item::after {content: \"\";width: 100%;border-bottom: 1px solid gray;flex-grow: 1;}#sk-container-id-1 div.sk-label:hover label.sk-toggleable__label {background-color: #d4ebff;}#sk-container-id-1 div.sk-serial::before {content: \"\";position: absolute;border-left: 1px solid gray;box-sizing: border-box;top: 0;bottom: 0;left: 50%;z-index: 0;}#sk-container-id-1 div.sk-serial {display: flex;flex-direction: column;align-items: center;background-color: white;padding-right: 0.2em;padding-left: 0.2em;position: relative;}#sk-container-id-1 div.sk-item {position: relative;z-index: 1;}#sk-container-id-1 div.sk-parallel {display: flex;align-items: stretch;justify-content: center;background-color: white;position: relative;}#sk-container-id-1 div.sk-item::before, #sk-container-id-1 div.sk-parallel-item::before {content: \"\";position: absolute;border-left: 1px solid gray;box-sizing: border-box;top: 0;bottom: 0;left: 50%;z-index: -1;}#sk-container-id-1 div.sk-parallel-item {display: flex;flex-direction: column;z-index: 1;position: relative;background-color: white;}#sk-container-id-1 div.sk-parallel-item:first-child::after {align-self: flex-end;width: 50%;}#sk-container-id-1 div.sk-parallel-item:last-child::after {align-self: flex-start;width: 50%;}#sk-container-id-1 div.sk-parallel-item:only-child::after {width: 0;}#sk-container-id-1 div.sk-dashed-wrapped {border: 1px dashed gray;margin: 0 0.4em 0.5em 0.4em;box-sizing: border-box;padding-bottom: 0.4em;background-color: white;}#sk-container-id-1 div.sk-label label {font-family: monospace;font-weight: bold;display: inline-block;line-height: 1.2em;}#sk-container-id-1 div.sk-label-container {text-align: center;}#sk-container-id-1 div.sk-container {/* jupyter's `normalize.less` sets `[hidden] { display: none; }` but bootstrap.min.css set `[hidden] { display: none !important; }` so we also need the `!important` here to be able to override the default hidden behavior on the sphinx rendered scikit-learn.org. See: https://github.com/scikit-learn/scikit-learn/issues/21755 */display: inline-block !important;position: relative;}#sk-container-id-1 div.sk-text-repr-fallback {display: none;}</style><div id=\"sk-container-id-1\" class=\"sk-top-container\"><div class=\"sk-text-repr-fallback\"><pre>SVC(C=100, gamma=0.01, random_state=42)</pre><b>In a Jupyter environment, please rerun this cell to show the HTML representation or trust the notebook. <br />On GitHub, the HTML representation is unable to render, please try loading this page with nbviewer.org.</b></div><div class=\"sk-container\" hidden><div class=\"sk-item\"><div class=\"sk-estimator sk-toggleable\"><input class=\"sk-toggleable__control sk-hidden--visually\" id=\"sk-estimator-id-1\" type=\"checkbox\" checked><label for=\"sk-estimator-id-1\" class=\"sk-toggleable__label sk-toggleable__label-arrow\">SVC</label><div class=\"sk-toggleable__content\"><pre>SVC(C=100, gamma=0.01, random_state=42)</pre></div></div></div></div></div>"
      ],
      "text/plain": [
       "SVC(C=100, gamma=0.01, random_state=42)"
      ]
     },
     "execution_count": 27,
     "metadata": {},
     "output_type": "execute_result"
    }
   ],
   "source": [
    "#after balacing\n",
    "clf_svm2 = svm.SVC(kernel='rbf', C=best_params_['C'], gamma=best_params_['gamma'],random_state=42)\n",
    "clf_svm2.fit(X_train_resampled,y_train_resampled)"
   ]
  },
  {
   "cell_type": "code",
   "execution_count": 28,
   "metadata": {},
   "outputs": [
    {
     "data": {
      "text/plain": [
       "<sklearn.metrics._plot.confusion_matrix.ConfusionMatrixDisplay at 0x16bf17f10>"
      ]
     },
     "execution_count": 28,
     "metadata": {},
     "output_type": "execute_result"
    },
    {
     "data": {
      "image/png": "[encoded data removed]",
      "text/plain": [
       "<Figure size 640x480 with 2 Axes>"
      ]
     },
     "metadata": {},
     "output_type": "display_data"
    }
   ],
   "source": [
    "y_pred2 = clf_svm2.predict(X_test)\n",
    "conf_matrix = confusion_matrix(y_test, y_pred2)\n",
    "plt = ConfusionMatrixDisplay(confusion_matrix = conf_matrix, display_labels=['not energetic','energetic'])\n",
    "plt.plot()"
   ]
  },
  {
   "cell_type": "markdown",
   "metadata": {},
   "source": [
    "While `not energetic` performs a bit poorer but there is also an increase in correct classifications for `energetic` which is what we want."
   ]
  },
  {
   "cell_type": "code",
   "execution_count": 29,
   "metadata": {},
   "outputs": [
    {
     "data": {
      "text/html": [
       "<div>\n",
       "<style scoped>\n",
       "    .dataframe tbody tr th:only-of-type {\n",
       "        vertical-align: middle;\n",
       "    }\n",
       "\n",
       "    .dataframe tbody tr th {\n",
       "        vertical-align: top;\n",
       "    }\n",
       "\n",
       "    .dataframe thead th {\n",
       "        text-align: right;\n",
       "    }\n",
       "</style>\n",
       "<table border=\"1\" class=\"dataframe\">\n",
       "  <thead>\n",
       "    <tr style=\"text-align: right;\">\n",
       "      <th></th>\n",
       "      <th>0</th>\n",
       "      <th>1</th>\n",
       "      <th>accuracy</th>\n",
       "      <th>macro avg</th>\n",
       "      <th>weighted avg</th>\n",
       "    </tr>\n",
       "  </thead>\n",
       "  <tbody>\n",
       "    <tr>\n",
       "      <th>precision</th>\n",
       "      <td>0.951220</td>\n",
       "      <td>0.633333</td>\n",
       "      <td>0.816901</td>\n",
       "      <td>0.792276</td>\n",
       "      <td>0.857197</td>\n",
       "    </tr>\n",
       "    <tr>\n",
       "      <th>recall</th>\n",
       "      <td>0.780000</td>\n",
       "      <td>0.904762</td>\n",
       "      <td>0.816901</td>\n",
       "      <td>0.842381</td>\n",
       "      <td>0.816901</td>\n",
       "    </tr>\n",
       "    <tr>\n",
       "      <th>f1-score</th>\n",
       "      <td>0.857143</td>\n",
       "      <td>0.745098</td>\n",
       "      <td>0.816901</td>\n",
       "      <td>0.801120</td>\n",
       "      <td>0.824003</td>\n",
       "    </tr>\n",
       "    <tr>\n",
       "      <th>support</th>\n",
       "      <td>200.000000</td>\n",
       "      <td>84.000000</td>\n",
       "      <td>0.816901</td>\n",
       "      <td>284.000000</td>\n",
       "      <td>284.000000</td>\n",
       "    </tr>\n",
       "  </tbody>\n",
       "</table>\n",
       "</div>"
      ],
      "text/plain": [
       "                    0          1  accuracy   macro avg  weighted avg\n",
       "precision    0.951220   0.633333  0.816901    0.792276      0.857197\n",
       "recall       0.780000   0.904762  0.816901    0.842381      0.816901\n",
       "f1-score     0.857143   0.745098  0.816901    0.801120      0.824003\n",
       "support    200.000000  84.000000  0.816901  284.000000    284.000000"
      ]
     },
     "execution_count": 29,
     "metadata": {},
     "output_type": "execute_result"
    }
   ],
   "source": [
    "classification_rep = classification_report(y_test, y_pred2, output_dict=True)\n",
    "pd.DataFrame(classification_rep)"
   ]
  },
  {
   "cell_type": "markdown",
   "metadata": {},
   "source": [
    "Our F1 score improved for Energetic and so did recall. We can use this model for some classfication tasks."
   ]
  },
  {
   "cell_type": "code",
   "execution_count": 30,
   "metadata": {},
   "outputs": [],
   "source": [
    "#renaming the model for concision\n",
    "model = clf_svm2"
   ]
  },
  {
   "cell_type": "markdown",
   "metadata": {},
   "source": [
    "## Exporting the model using Pickle library"
   ]
  },
  {
   "cell_type": "code",
   "execution_count": 31,
   "metadata": {},
   "outputs": [],
   "source": [
    "import pickle"
   ]
  },
  {
   "cell_type": "code",
   "execution_count": 32,
   "metadata": {},
   "outputs": [],
   "source": [
    "features = ['danceability', 'energy',\n",
    "       'key', 'loudness', 'mode', 'speechiness', 'acousticness',\n",
    "       'instrumentalness', 'liveness', 'valence', 'tempo']"
   ]
  },
  {
   "cell_type": "code",
   "execution_count": 33,
   "metadata": {},
   "outputs": [],
   "source": [
    "data = {'features':features, 'model':model}"
   ]
  },
  {
   "cell_type": "code",
   "execution_count": 34,
   "metadata": {},
   "outputs": [],
   "source": [
    "pickle.dump(data , open('model.pk1' , 'wb'))"
   ]
  }
 ],
 "metadata": {
  "kernelspec": {
   "display_name": "Python 3 (ipykernel)",
   "language": "python",
   "name": "python3"
  },
  "language_info": {
   "codemirror_mode": {
    "name": "ipython",
    "version": 3
   },
   "file_extension": ".py",
   "mimetype": "text/x-python",
   "name": "python",
   "nbconvert_exporter": "python",
   "pygments_lexer": "ipython3",
   "version": "3.12.1"
  }
 },
 "nbformat": 4,
 "nbformat_minor": 4
}
